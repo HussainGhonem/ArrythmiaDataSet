{
 "cells": [
  {
   "cell_type": "code",
   "execution_count": 1,
   "metadata": {},
   "outputs": [],
   "source": [
    "import pandas as pd\n",
    "import matplotlib.pyplot as plt\n",
    "from sklearn.preprocessing import StandardScaler\n",
    "from sklearn.preprocessing import MinMaxScaler\n",
    "from sklearn.ensemble import VotingClassifier\n",
    "from imblearn.pipeline import Pipeline\n",
    "from sklearn.ensemble import RandomForestClassifier\n",
    "from sklearn.svm import SVC\n",
    "import numpy as np\n",
    "from numpy import arange\n",
    "import seaborn as sns\n",
    "from sklearn.model_selection import learning_curve\n",
    "from sklearn.metrics import classification_report\n",
    "from sklearn.model_selection import train_test_split\n",
    "from sklearn import preprocessing\n",
    "from sklearn import metrics\n",
    "from mlxtend.evaluate import bias_variance_decomp\n",
    "from sklearn.model_selection import cross_val_score\n",
    "from sklearn.model_selection import KFold \n",
    "from sklearn.linear_model import LogisticRegression\n",
    "from sklearn.metrics import accuracy_score\n",
    " "
   ]
  },
  {
   "cell_type": "markdown",
   "metadata": {},
   "source": [
    "# Data Visualization"
   ]
  },
  {
   "cell_type": "code",
   "execution_count": 2,
   "metadata": {},
   "outputs": [],
   "source": [
    "df=pd.read_csv(\"arrhythmia.data\")"
   ]
  },
  {
   "cell_type": "code",
   "execution_count": 3,
   "metadata": {},
   "outputs": [
    {
     "data": {
      "text/html": [
       "<div>\n",
       "<style scoped>\n",
       "    .dataframe tbody tr th:only-of-type {\n",
       "        vertical-align: middle;\n",
       "    }\n",
       "\n",
       "    .dataframe tbody tr th {\n",
       "        vertical-align: top;\n",
       "    }\n",
       "\n",
       "    .dataframe thead th {\n",
       "        text-align: right;\n",
       "    }\n",
       "</style>\n",
       "<table border=\"1\" class=\"dataframe\">\n",
       "  <thead>\n",
       "    <tr style=\"text-align: right;\">\n",
       "      <th></th>\n",
       "      <th>75</th>\n",
       "      <th>0</th>\n",
       "      <th>190</th>\n",
       "      <th>80</th>\n",
       "      <th>91</th>\n",
       "      <th>193</th>\n",
       "      <th>371</th>\n",
       "      <th>174</th>\n",
       "      <th>121</th>\n",
       "      <th>-16</th>\n",
       "      <th>...</th>\n",
       "      <th>0.0.38</th>\n",
       "      <th>9.0</th>\n",
       "      <th>-0.9</th>\n",
       "      <th>0.0.39</th>\n",
       "      <th>0.0.40</th>\n",
       "      <th>0.9.3</th>\n",
       "      <th>2.9.1</th>\n",
       "      <th>23.3</th>\n",
       "      <th>49.4</th>\n",
       "      <th>8</th>\n",
       "    </tr>\n",
       "  </thead>\n",
       "  <tbody>\n",
       "    <tr>\n",
       "      <th>0</th>\n",
       "      <td>56</td>\n",
       "      <td>1</td>\n",
       "      <td>165</td>\n",
       "      <td>64</td>\n",
       "      <td>81</td>\n",
       "      <td>174</td>\n",
       "      <td>401</td>\n",
       "      <td>149</td>\n",
       "      <td>39</td>\n",
       "      <td>25</td>\n",
       "      <td>...</td>\n",
       "      <td>0.0</td>\n",
       "      <td>8.5</td>\n",
       "      <td>0.0</td>\n",
       "      <td>0.0</td>\n",
       "      <td>0.0</td>\n",
       "      <td>0.2</td>\n",
       "      <td>2.1</td>\n",
       "      <td>20.4</td>\n",
       "      <td>38.8</td>\n",
       "      <td>6</td>\n",
       "    </tr>\n",
       "    <tr>\n",
       "      <th>1</th>\n",
       "      <td>54</td>\n",
       "      <td>0</td>\n",
       "      <td>172</td>\n",
       "      <td>95</td>\n",
       "      <td>138</td>\n",
       "      <td>163</td>\n",
       "      <td>386</td>\n",
       "      <td>185</td>\n",
       "      <td>102</td>\n",
       "      <td>96</td>\n",
       "      <td>...</td>\n",
       "      <td>0.0</td>\n",
       "      <td>9.5</td>\n",
       "      <td>-2.4</td>\n",
       "      <td>0.0</td>\n",
       "      <td>0.0</td>\n",
       "      <td>0.3</td>\n",
       "      <td>3.4</td>\n",
       "      <td>12.3</td>\n",
       "      <td>49.0</td>\n",
       "      <td>10</td>\n",
       "    </tr>\n",
       "    <tr>\n",
       "      <th>2</th>\n",
       "      <td>55</td>\n",
       "      <td>0</td>\n",
       "      <td>175</td>\n",
       "      <td>94</td>\n",
       "      <td>100</td>\n",
       "      <td>202</td>\n",
       "      <td>380</td>\n",
       "      <td>179</td>\n",
       "      <td>143</td>\n",
       "      <td>28</td>\n",
       "      <td>...</td>\n",
       "      <td>0.0</td>\n",
       "      <td>12.2</td>\n",
       "      <td>-2.2</td>\n",
       "      <td>0.0</td>\n",
       "      <td>0.0</td>\n",
       "      <td>0.4</td>\n",
       "      <td>2.6</td>\n",
       "      <td>34.6</td>\n",
       "      <td>61.6</td>\n",
       "      <td>1</td>\n",
       "    </tr>\n",
       "    <tr>\n",
       "      <th>3</th>\n",
       "      <td>75</td>\n",
       "      <td>0</td>\n",
       "      <td>190</td>\n",
       "      <td>80</td>\n",
       "      <td>88</td>\n",
       "      <td>181</td>\n",
       "      <td>360</td>\n",
       "      <td>177</td>\n",
       "      <td>103</td>\n",
       "      <td>-16</td>\n",
       "      <td>...</td>\n",
       "      <td>0.0</td>\n",
       "      <td>13.1</td>\n",
       "      <td>-3.6</td>\n",
       "      <td>0.0</td>\n",
       "      <td>0.0</td>\n",
       "      <td>-0.1</td>\n",
       "      <td>3.9</td>\n",
       "      <td>25.4</td>\n",
       "      <td>62.8</td>\n",
       "      <td>7</td>\n",
       "    </tr>\n",
       "    <tr>\n",
       "      <th>4</th>\n",
       "      <td>13</td>\n",
       "      <td>0</td>\n",
       "      <td>169</td>\n",
       "      <td>51</td>\n",
       "      <td>100</td>\n",
       "      <td>167</td>\n",
       "      <td>321</td>\n",
       "      <td>174</td>\n",
       "      <td>91</td>\n",
       "      <td>107</td>\n",
       "      <td>...</td>\n",
       "      <td>-0.6</td>\n",
       "      <td>12.2</td>\n",
       "      <td>-2.8</td>\n",
       "      <td>0.0</td>\n",
       "      <td>0.0</td>\n",
       "      <td>0.9</td>\n",
       "      <td>2.2</td>\n",
       "      <td>13.5</td>\n",
       "      <td>31.1</td>\n",
       "      <td>14</td>\n",
       "    </tr>\n",
       "    <tr>\n",
       "      <th>...</th>\n",
       "      <td>...</td>\n",
       "      <td>...</td>\n",
       "      <td>...</td>\n",
       "      <td>...</td>\n",
       "      <td>...</td>\n",
       "      <td>...</td>\n",
       "      <td>...</td>\n",
       "      <td>...</td>\n",
       "      <td>...</td>\n",
       "      <td>...</td>\n",
       "      <td>...</td>\n",
       "      <td>...</td>\n",
       "      <td>...</td>\n",
       "      <td>...</td>\n",
       "      <td>...</td>\n",
       "      <td>...</td>\n",
       "      <td>...</td>\n",
       "      <td>...</td>\n",
       "      <td>...</td>\n",
       "      <td>...</td>\n",
       "      <td>...</td>\n",
       "    </tr>\n",
       "    <tr>\n",
       "      <th>446</th>\n",
       "      <td>53</td>\n",
       "      <td>1</td>\n",
       "      <td>160</td>\n",
       "      <td>70</td>\n",
       "      <td>80</td>\n",
       "      <td>199</td>\n",
       "      <td>382</td>\n",
       "      <td>154</td>\n",
       "      <td>117</td>\n",
       "      <td>-37</td>\n",
       "      <td>...</td>\n",
       "      <td>0.0</td>\n",
       "      <td>4.3</td>\n",
       "      <td>-5.0</td>\n",
       "      <td>0.0</td>\n",
       "      <td>0.0</td>\n",
       "      <td>0.7</td>\n",
       "      <td>0.6</td>\n",
       "      <td>-4.4</td>\n",
       "      <td>-0.5</td>\n",
       "      <td>1</td>\n",
       "    </tr>\n",
       "    <tr>\n",
       "      <th>447</th>\n",
       "      <td>37</td>\n",
       "      <td>0</td>\n",
       "      <td>190</td>\n",
       "      <td>85</td>\n",
       "      <td>100</td>\n",
       "      <td>137</td>\n",
       "      <td>361</td>\n",
       "      <td>201</td>\n",
       "      <td>73</td>\n",
       "      <td>86</td>\n",
       "      <td>...</td>\n",
       "      <td>0.0</td>\n",
       "      <td>15.6</td>\n",
       "      <td>-1.6</td>\n",
       "      <td>0.0</td>\n",
       "      <td>0.0</td>\n",
       "      <td>0.4</td>\n",
       "      <td>2.4</td>\n",
       "      <td>38.0</td>\n",
       "      <td>62.4</td>\n",
       "      <td>10</td>\n",
       "    </tr>\n",
       "    <tr>\n",
       "      <th>448</th>\n",
       "      <td>36</td>\n",
       "      <td>0</td>\n",
       "      <td>166</td>\n",
       "      <td>68</td>\n",
       "      <td>108</td>\n",
       "      <td>176</td>\n",
       "      <td>365</td>\n",
       "      <td>194</td>\n",
       "      <td>116</td>\n",
       "      <td>-85</td>\n",
       "      <td>...</td>\n",
       "      <td>0.0</td>\n",
       "      <td>16.3</td>\n",
       "      <td>-28.6</td>\n",
       "      <td>0.0</td>\n",
       "      <td>0.0</td>\n",
       "      <td>1.5</td>\n",
       "      <td>1.0</td>\n",
       "      <td>-44.2</td>\n",
       "      <td>-33.2</td>\n",
       "      <td>2</td>\n",
       "    </tr>\n",
       "    <tr>\n",
       "      <th>449</th>\n",
       "      <td>32</td>\n",
       "      <td>1</td>\n",
       "      <td>155</td>\n",
       "      <td>55</td>\n",
       "      <td>93</td>\n",
       "      <td>106</td>\n",
       "      <td>386</td>\n",
       "      <td>218</td>\n",
       "      <td>63</td>\n",
       "      <td>54</td>\n",
       "      <td>...</td>\n",
       "      <td>-0.4</td>\n",
       "      <td>12.0</td>\n",
       "      <td>-0.7</td>\n",
       "      <td>0.0</td>\n",
       "      <td>0.0</td>\n",
       "      <td>0.5</td>\n",
       "      <td>2.4</td>\n",
       "      <td>25.0</td>\n",
       "      <td>46.6</td>\n",
       "      <td>1</td>\n",
       "    </tr>\n",
       "    <tr>\n",
       "      <th>450</th>\n",
       "      <td>78</td>\n",
       "      <td>1</td>\n",
       "      <td>160</td>\n",
       "      <td>70</td>\n",
       "      <td>79</td>\n",
       "      <td>127</td>\n",
       "      <td>364</td>\n",
       "      <td>138</td>\n",
       "      <td>78</td>\n",
       "      <td>28</td>\n",
       "      <td>...</td>\n",
       "      <td>0.0</td>\n",
       "      <td>10.4</td>\n",
       "      <td>-1.8</td>\n",
       "      <td>0.0</td>\n",
       "      <td>0.0</td>\n",
       "      <td>0.5</td>\n",
       "      <td>1.6</td>\n",
       "      <td>21.3</td>\n",
       "      <td>32.8</td>\n",
       "      <td>1</td>\n",
       "    </tr>\n",
       "  </tbody>\n",
       "</table>\n",
       "<p>451 rows × 280 columns</p>\n",
       "</div>"
      ],
      "text/plain": [
       "     75  0  190  80   91  193  371  174  121  -16  ... 0.0.38   9.0  -0.9  \\\n",
       "0    56  1  165  64   81  174  401  149   39   25  ...    0.0   8.5   0.0   \n",
       "1    54  0  172  95  138  163  386  185  102   96  ...    0.0   9.5  -2.4   \n",
       "2    55  0  175  94  100  202  380  179  143   28  ...    0.0  12.2  -2.2   \n",
       "3    75  0  190  80   88  181  360  177  103  -16  ...    0.0  13.1  -3.6   \n",
       "4    13  0  169  51  100  167  321  174   91  107  ...   -0.6  12.2  -2.8   \n",
       "..   .. ..  ...  ..  ...  ...  ...  ...  ...  ...  ...    ...   ...   ...   \n",
       "446  53  1  160  70   80  199  382  154  117  -37  ...    0.0   4.3  -5.0   \n",
       "447  37  0  190  85  100  137  361  201   73   86  ...    0.0  15.6  -1.6   \n",
       "448  36  0  166  68  108  176  365  194  116  -85  ...    0.0  16.3 -28.6   \n",
       "449  32  1  155  55   93  106  386  218   63   54  ...   -0.4  12.0  -0.7   \n",
       "450  78  1  160  70   79  127  364  138   78   28  ...    0.0  10.4  -1.8   \n",
       "\n",
       "    0.0.39 0.0.40  0.9.3  2.9.1  23.3  49.4   8  \n",
       "0      0.0    0.0    0.2    2.1  20.4  38.8   6  \n",
       "1      0.0    0.0    0.3    3.4  12.3  49.0  10  \n",
       "2      0.0    0.0    0.4    2.6  34.6  61.6   1  \n",
       "3      0.0    0.0   -0.1    3.9  25.4  62.8   7  \n",
       "4      0.0    0.0    0.9    2.2  13.5  31.1  14  \n",
       "..     ...    ...    ...    ...   ...   ...  ..  \n",
       "446    0.0    0.0    0.7    0.6  -4.4  -0.5   1  \n",
       "447    0.0    0.0    0.4    2.4  38.0  62.4  10  \n",
       "448    0.0    0.0    1.5    1.0 -44.2 -33.2   2  \n",
       "449    0.0    0.0    0.5    2.4  25.0  46.6   1  \n",
       "450    0.0    0.0    0.5    1.6  21.3  32.8   1  \n",
       "\n",
       "[451 rows x 280 columns]"
      ]
     },
     "execution_count": 3,
     "metadata": {},
     "output_type": "execute_result"
    }
   ],
   "source": [
    "df"
   ]
  },
  {
   "cell_type": "markdown",
   "metadata": {},
   "source": [
    "There does exist no header let's add one"
   ]
  },
  {
   "cell_type": "code",
   "execution_count": 4,
   "metadata": {},
   "outputs": [],
   "source": [
    "columnnames=[]\n",
    "i=0\n",
    "for i in range (280):\n",
    "    columnnames.append(i)\n",
    "    i=i+1"
   ]
  },
  {
   "cell_type": "code",
   "execution_count": 5,
   "metadata": {},
   "outputs": [],
   "source": [
    "df.columns=columnnames"
   ]
  },
  {
   "cell_type": "code",
   "execution_count": 6,
   "metadata": {},
   "outputs": [
    {
     "data": {
      "text/html": [
       "<div>\n",
       "<style scoped>\n",
       "    .dataframe tbody tr th:only-of-type {\n",
       "        vertical-align: middle;\n",
       "    }\n",
       "\n",
       "    .dataframe tbody tr th {\n",
       "        vertical-align: top;\n",
       "    }\n",
       "\n",
       "    .dataframe thead th {\n",
       "        text-align: right;\n",
       "    }\n",
       "</style>\n",
       "<table border=\"1\" class=\"dataframe\">\n",
       "  <thead>\n",
       "    <tr style=\"text-align: right;\">\n",
       "      <th></th>\n",
       "      <th>0</th>\n",
       "      <th>1</th>\n",
       "      <th>2</th>\n",
       "      <th>3</th>\n",
       "      <th>4</th>\n",
       "      <th>5</th>\n",
       "      <th>6</th>\n",
       "      <th>7</th>\n",
       "      <th>8</th>\n",
       "      <th>9</th>\n",
       "      <th>...</th>\n",
       "      <th>270</th>\n",
       "      <th>271</th>\n",
       "      <th>272</th>\n",
       "      <th>273</th>\n",
       "      <th>274</th>\n",
       "      <th>275</th>\n",
       "      <th>276</th>\n",
       "      <th>277</th>\n",
       "      <th>278</th>\n",
       "      <th>279</th>\n",
       "    </tr>\n",
       "  </thead>\n",
       "  <tbody>\n",
       "    <tr>\n",
       "      <th>0</th>\n",
       "      <td>56</td>\n",
       "      <td>1</td>\n",
       "      <td>165</td>\n",
       "      <td>64</td>\n",
       "      <td>81</td>\n",
       "      <td>174</td>\n",
       "      <td>401</td>\n",
       "      <td>149</td>\n",
       "      <td>39</td>\n",
       "      <td>25</td>\n",
       "      <td>...</td>\n",
       "      <td>0.0</td>\n",
       "      <td>8.5</td>\n",
       "      <td>0.0</td>\n",
       "      <td>0.0</td>\n",
       "      <td>0.0</td>\n",
       "      <td>0.2</td>\n",
       "      <td>2.1</td>\n",
       "      <td>20.4</td>\n",
       "      <td>38.8</td>\n",
       "      <td>6</td>\n",
       "    </tr>\n",
       "    <tr>\n",
       "      <th>1</th>\n",
       "      <td>54</td>\n",
       "      <td>0</td>\n",
       "      <td>172</td>\n",
       "      <td>95</td>\n",
       "      <td>138</td>\n",
       "      <td>163</td>\n",
       "      <td>386</td>\n",
       "      <td>185</td>\n",
       "      <td>102</td>\n",
       "      <td>96</td>\n",
       "      <td>...</td>\n",
       "      <td>0.0</td>\n",
       "      <td>9.5</td>\n",
       "      <td>-2.4</td>\n",
       "      <td>0.0</td>\n",
       "      <td>0.0</td>\n",
       "      <td>0.3</td>\n",
       "      <td>3.4</td>\n",
       "      <td>12.3</td>\n",
       "      <td>49.0</td>\n",
       "      <td>10</td>\n",
       "    </tr>\n",
       "    <tr>\n",
       "      <th>2</th>\n",
       "      <td>55</td>\n",
       "      <td>0</td>\n",
       "      <td>175</td>\n",
       "      <td>94</td>\n",
       "      <td>100</td>\n",
       "      <td>202</td>\n",
       "      <td>380</td>\n",
       "      <td>179</td>\n",
       "      <td>143</td>\n",
       "      <td>28</td>\n",
       "      <td>...</td>\n",
       "      <td>0.0</td>\n",
       "      <td>12.2</td>\n",
       "      <td>-2.2</td>\n",
       "      <td>0.0</td>\n",
       "      <td>0.0</td>\n",
       "      <td>0.4</td>\n",
       "      <td>2.6</td>\n",
       "      <td>34.6</td>\n",
       "      <td>61.6</td>\n",
       "      <td>1</td>\n",
       "    </tr>\n",
       "    <tr>\n",
       "      <th>3</th>\n",
       "      <td>75</td>\n",
       "      <td>0</td>\n",
       "      <td>190</td>\n",
       "      <td>80</td>\n",
       "      <td>88</td>\n",
       "      <td>181</td>\n",
       "      <td>360</td>\n",
       "      <td>177</td>\n",
       "      <td>103</td>\n",
       "      <td>-16</td>\n",
       "      <td>...</td>\n",
       "      <td>0.0</td>\n",
       "      <td>13.1</td>\n",
       "      <td>-3.6</td>\n",
       "      <td>0.0</td>\n",
       "      <td>0.0</td>\n",
       "      <td>-0.1</td>\n",
       "      <td>3.9</td>\n",
       "      <td>25.4</td>\n",
       "      <td>62.8</td>\n",
       "      <td>7</td>\n",
       "    </tr>\n",
       "    <tr>\n",
       "      <th>4</th>\n",
       "      <td>13</td>\n",
       "      <td>0</td>\n",
       "      <td>169</td>\n",
       "      <td>51</td>\n",
       "      <td>100</td>\n",
       "      <td>167</td>\n",
       "      <td>321</td>\n",
       "      <td>174</td>\n",
       "      <td>91</td>\n",
       "      <td>107</td>\n",
       "      <td>...</td>\n",
       "      <td>-0.6</td>\n",
       "      <td>12.2</td>\n",
       "      <td>-2.8</td>\n",
       "      <td>0.0</td>\n",
       "      <td>0.0</td>\n",
       "      <td>0.9</td>\n",
       "      <td>2.2</td>\n",
       "      <td>13.5</td>\n",
       "      <td>31.1</td>\n",
       "      <td>14</td>\n",
       "    </tr>\n",
       "    <tr>\n",
       "      <th>...</th>\n",
       "      <td>...</td>\n",
       "      <td>...</td>\n",
       "      <td>...</td>\n",
       "      <td>...</td>\n",
       "      <td>...</td>\n",
       "      <td>...</td>\n",
       "      <td>...</td>\n",
       "      <td>...</td>\n",
       "      <td>...</td>\n",
       "      <td>...</td>\n",
       "      <td>...</td>\n",
       "      <td>...</td>\n",
       "      <td>...</td>\n",
       "      <td>...</td>\n",
       "      <td>...</td>\n",
       "      <td>...</td>\n",
       "      <td>...</td>\n",
       "      <td>...</td>\n",
       "      <td>...</td>\n",
       "      <td>...</td>\n",
       "      <td>...</td>\n",
       "    </tr>\n",
       "    <tr>\n",
       "      <th>446</th>\n",
       "      <td>53</td>\n",
       "      <td>1</td>\n",
       "      <td>160</td>\n",
       "      <td>70</td>\n",
       "      <td>80</td>\n",
       "      <td>199</td>\n",
       "      <td>382</td>\n",
       "      <td>154</td>\n",
       "      <td>117</td>\n",
       "      <td>-37</td>\n",
       "      <td>...</td>\n",
       "      <td>0.0</td>\n",
       "      <td>4.3</td>\n",
       "      <td>-5.0</td>\n",
       "      <td>0.0</td>\n",
       "      <td>0.0</td>\n",
       "      <td>0.7</td>\n",
       "      <td>0.6</td>\n",
       "      <td>-4.4</td>\n",
       "      <td>-0.5</td>\n",
       "      <td>1</td>\n",
       "    </tr>\n",
       "    <tr>\n",
       "      <th>447</th>\n",
       "      <td>37</td>\n",
       "      <td>0</td>\n",
       "      <td>190</td>\n",
       "      <td>85</td>\n",
       "      <td>100</td>\n",
       "      <td>137</td>\n",
       "      <td>361</td>\n",
       "      <td>201</td>\n",
       "      <td>73</td>\n",
       "      <td>86</td>\n",
       "      <td>...</td>\n",
       "      <td>0.0</td>\n",
       "      <td>15.6</td>\n",
       "      <td>-1.6</td>\n",
       "      <td>0.0</td>\n",
       "      <td>0.0</td>\n",
       "      <td>0.4</td>\n",
       "      <td>2.4</td>\n",
       "      <td>38.0</td>\n",
       "      <td>62.4</td>\n",
       "      <td>10</td>\n",
       "    </tr>\n",
       "    <tr>\n",
       "      <th>448</th>\n",
       "      <td>36</td>\n",
       "      <td>0</td>\n",
       "      <td>166</td>\n",
       "      <td>68</td>\n",
       "      <td>108</td>\n",
       "      <td>176</td>\n",
       "      <td>365</td>\n",
       "      <td>194</td>\n",
       "      <td>116</td>\n",
       "      <td>-85</td>\n",
       "      <td>...</td>\n",
       "      <td>0.0</td>\n",
       "      <td>16.3</td>\n",
       "      <td>-28.6</td>\n",
       "      <td>0.0</td>\n",
       "      <td>0.0</td>\n",
       "      <td>1.5</td>\n",
       "      <td>1.0</td>\n",
       "      <td>-44.2</td>\n",
       "      <td>-33.2</td>\n",
       "      <td>2</td>\n",
       "    </tr>\n",
       "    <tr>\n",
       "      <th>449</th>\n",
       "      <td>32</td>\n",
       "      <td>1</td>\n",
       "      <td>155</td>\n",
       "      <td>55</td>\n",
       "      <td>93</td>\n",
       "      <td>106</td>\n",
       "      <td>386</td>\n",
       "      <td>218</td>\n",
       "      <td>63</td>\n",
       "      <td>54</td>\n",
       "      <td>...</td>\n",
       "      <td>-0.4</td>\n",
       "      <td>12.0</td>\n",
       "      <td>-0.7</td>\n",
       "      <td>0.0</td>\n",
       "      <td>0.0</td>\n",
       "      <td>0.5</td>\n",
       "      <td>2.4</td>\n",
       "      <td>25.0</td>\n",
       "      <td>46.6</td>\n",
       "      <td>1</td>\n",
       "    </tr>\n",
       "    <tr>\n",
       "      <th>450</th>\n",
       "      <td>78</td>\n",
       "      <td>1</td>\n",
       "      <td>160</td>\n",
       "      <td>70</td>\n",
       "      <td>79</td>\n",
       "      <td>127</td>\n",
       "      <td>364</td>\n",
       "      <td>138</td>\n",
       "      <td>78</td>\n",
       "      <td>28</td>\n",
       "      <td>...</td>\n",
       "      <td>0.0</td>\n",
       "      <td>10.4</td>\n",
       "      <td>-1.8</td>\n",
       "      <td>0.0</td>\n",
       "      <td>0.0</td>\n",
       "      <td>0.5</td>\n",
       "      <td>1.6</td>\n",
       "      <td>21.3</td>\n",
       "      <td>32.8</td>\n",
       "      <td>1</td>\n",
       "    </tr>\n",
       "  </tbody>\n",
       "</table>\n",
       "<p>451 rows × 280 columns</p>\n",
       "</div>"
      ],
      "text/plain": [
       "     0    1    2    3    4    5    6    7    8    9    ...  270   271   272  \\\n",
       "0     56    1  165   64   81  174  401  149   39   25  ...  0.0   8.5   0.0   \n",
       "1     54    0  172   95  138  163  386  185  102   96  ...  0.0   9.5  -2.4   \n",
       "2     55    0  175   94  100  202  380  179  143   28  ...  0.0  12.2  -2.2   \n",
       "3     75    0  190   80   88  181  360  177  103  -16  ...  0.0  13.1  -3.6   \n",
       "4     13    0  169   51  100  167  321  174   91  107  ... -0.6  12.2  -2.8   \n",
       "..   ...  ...  ...  ...  ...  ...  ...  ...  ...  ...  ...  ...   ...   ...   \n",
       "446   53    1  160   70   80  199  382  154  117  -37  ...  0.0   4.3  -5.0   \n",
       "447   37    0  190   85  100  137  361  201   73   86  ...  0.0  15.6  -1.6   \n",
       "448   36    0  166   68  108  176  365  194  116  -85  ...  0.0  16.3 -28.6   \n",
       "449   32    1  155   55   93  106  386  218   63   54  ... -0.4  12.0  -0.7   \n",
       "450   78    1  160   70   79  127  364  138   78   28  ...  0.0  10.4  -1.8   \n",
       "\n",
       "     273  274  275  276   277   278  279  \n",
       "0    0.0  0.0  0.2  2.1  20.4  38.8    6  \n",
       "1    0.0  0.0  0.3  3.4  12.3  49.0   10  \n",
       "2    0.0  0.0  0.4  2.6  34.6  61.6    1  \n",
       "3    0.0  0.0 -0.1  3.9  25.4  62.8    7  \n",
       "4    0.0  0.0  0.9  2.2  13.5  31.1   14  \n",
       "..   ...  ...  ...  ...   ...   ...  ...  \n",
       "446  0.0  0.0  0.7  0.6  -4.4  -0.5    1  \n",
       "447  0.0  0.0  0.4  2.4  38.0  62.4   10  \n",
       "448  0.0  0.0  1.5  1.0 -44.2 -33.2    2  \n",
       "449  0.0  0.0  0.5  2.4  25.0  46.6    1  \n",
       "450  0.0  0.0  0.5  1.6  21.3  32.8    1  \n",
       "\n",
       "[451 rows x 280 columns]"
      ]
     },
     "execution_count": 6,
     "metadata": {},
     "output_type": "execute_result"
    }
   ],
   "source": [
    "df"
   ]
  },
  {
   "cell_type": "markdown",
   "metadata": {},
   "source": [
    "Let's check for null values"
   ]
  },
  {
   "cell_type": "code",
   "execution_count": 7,
   "metadata": {},
   "outputs": [
    {
     "data": {
      "text/plain": [
       "0"
      ]
     },
     "execution_count": 7,
     "metadata": {},
     "output_type": "execute_result"
    }
   ],
   "source": [
    "df.isnull().sum().sum()"
   ]
  },
  {
   "cell_type": "markdown",
   "metadata": {},
   "source": [
    "This is not true in the document they stated that nan values are named as '?'"
   ]
  },
  {
   "cell_type": "code",
   "execution_count": 8,
   "metadata": {},
   "outputs": [],
   "source": [
    "df=df.set_index([df.index]).replace('?',np.nan)"
   ]
  },
  {
   "cell_type": "code",
   "execution_count": 9,
   "metadata": {},
   "outputs": [
    {
     "data": {
      "text/html": [
       "<div>\n",
       "<style scoped>\n",
       "    .dataframe tbody tr th:only-of-type {\n",
       "        vertical-align: middle;\n",
       "    }\n",
       "\n",
       "    .dataframe tbody tr th {\n",
       "        vertical-align: top;\n",
       "    }\n",
       "\n",
       "    .dataframe thead th {\n",
       "        text-align: right;\n",
       "    }\n",
       "</style>\n",
       "<table border=\"1\" class=\"dataframe\">\n",
       "  <thead>\n",
       "    <tr style=\"text-align: right;\">\n",
       "      <th></th>\n",
       "      <th>0</th>\n",
       "      <th>1</th>\n",
       "      <th>2</th>\n",
       "      <th>3</th>\n",
       "      <th>4</th>\n",
       "      <th>5</th>\n",
       "      <th>6</th>\n",
       "      <th>7</th>\n",
       "      <th>8</th>\n",
       "      <th>9</th>\n",
       "      <th>...</th>\n",
       "      <th>270</th>\n",
       "      <th>271</th>\n",
       "      <th>272</th>\n",
       "      <th>273</th>\n",
       "      <th>274</th>\n",
       "      <th>275</th>\n",
       "      <th>276</th>\n",
       "      <th>277</th>\n",
       "      <th>278</th>\n",
       "      <th>279</th>\n",
       "    </tr>\n",
       "  </thead>\n",
       "  <tbody>\n",
       "    <tr>\n",
       "      <th>0</th>\n",
       "      <td>56</td>\n",
       "      <td>1</td>\n",
       "      <td>165</td>\n",
       "      <td>64</td>\n",
       "      <td>81</td>\n",
       "      <td>174</td>\n",
       "      <td>401</td>\n",
       "      <td>149</td>\n",
       "      <td>39</td>\n",
       "      <td>25</td>\n",
       "      <td>...</td>\n",
       "      <td>0.0</td>\n",
       "      <td>8.5</td>\n",
       "      <td>0.0</td>\n",
       "      <td>0.0</td>\n",
       "      <td>0.0</td>\n",
       "      <td>0.2</td>\n",
       "      <td>2.1</td>\n",
       "      <td>20.4</td>\n",
       "      <td>38.8</td>\n",
       "      <td>6</td>\n",
       "    </tr>\n",
       "    <tr>\n",
       "      <th>1</th>\n",
       "      <td>54</td>\n",
       "      <td>0</td>\n",
       "      <td>172</td>\n",
       "      <td>95</td>\n",
       "      <td>138</td>\n",
       "      <td>163</td>\n",
       "      <td>386</td>\n",
       "      <td>185</td>\n",
       "      <td>102</td>\n",
       "      <td>96</td>\n",
       "      <td>...</td>\n",
       "      <td>0.0</td>\n",
       "      <td>9.5</td>\n",
       "      <td>-2.4</td>\n",
       "      <td>0.0</td>\n",
       "      <td>0.0</td>\n",
       "      <td>0.3</td>\n",
       "      <td>3.4</td>\n",
       "      <td>12.3</td>\n",
       "      <td>49.0</td>\n",
       "      <td>10</td>\n",
       "    </tr>\n",
       "    <tr>\n",
       "      <th>2</th>\n",
       "      <td>55</td>\n",
       "      <td>0</td>\n",
       "      <td>175</td>\n",
       "      <td>94</td>\n",
       "      <td>100</td>\n",
       "      <td>202</td>\n",
       "      <td>380</td>\n",
       "      <td>179</td>\n",
       "      <td>143</td>\n",
       "      <td>28</td>\n",
       "      <td>...</td>\n",
       "      <td>0.0</td>\n",
       "      <td>12.2</td>\n",
       "      <td>-2.2</td>\n",
       "      <td>0.0</td>\n",
       "      <td>0.0</td>\n",
       "      <td>0.4</td>\n",
       "      <td>2.6</td>\n",
       "      <td>34.6</td>\n",
       "      <td>61.6</td>\n",
       "      <td>1</td>\n",
       "    </tr>\n",
       "    <tr>\n",
       "      <th>3</th>\n",
       "      <td>75</td>\n",
       "      <td>0</td>\n",
       "      <td>190</td>\n",
       "      <td>80</td>\n",
       "      <td>88</td>\n",
       "      <td>181</td>\n",
       "      <td>360</td>\n",
       "      <td>177</td>\n",
       "      <td>103</td>\n",
       "      <td>-16</td>\n",
       "      <td>...</td>\n",
       "      <td>0.0</td>\n",
       "      <td>13.1</td>\n",
       "      <td>-3.6</td>\n",
       "      <td>0.0</td>\n",
       "      <td>0.0</td>\n",
       "      <td>-0.1</td>\n",
       "      <td>3.9</td>\n",
       "      <td>25.4</td>\n",
       "      <td>62.8</td>\n",
       "      <td>7</td>\n",
       "    </tr>\n",
       "    <tr>\n",
       "      <th>4</th>\n",
       "      <td>13</td>\n",
       "      <td>0</td>\n",
       "      <td>169</td>\n",
       "      <td>51</td>\n",
       "      <td>100</td>\n",
       "      <td>167</td>\n",
       "      <td>321</td>\n",
       "      <td>174</td>\n",
       "      <td>91</td>\n",
       "      <td>107</td>\n",
       "      <td>...</td>\n",
       "      <td>-0.6</td>\n",
       "      <td>12.2</td>\n",
       "      <td>-2.8</td>\n",
       "      <td>0.0</td>\n",
       "      <td>0.0</td>\n",
       "      <td>0.9</td>\n",
       "      <td>2.2</td>\n",
       "      <td>13.5</td>\n",
       "      <td>31.1</td>\n",
       "      <td>14</td>\n",
       "    </tr>\n",
       "    <tr>\n",
       "      <th>...</th>\n",
       "      <td>...</td>\n",
       "      <td>...</td>\n",
       "      <td>...</td>\n",
       "      <td>...</td>\n",
       "      <td>...</td>\n",
       "      <td>...</td>\n",
       "      <td>...</td>\n",
       "      <td>...</td>\n",
       "      <td>...</td>\n",
       "      <td>...</td>\n",
       "      <td>...</td>\n",
       "      <td>...</td>\n",
       "      <td>...</td>\n",
       "      <td>...</td>\n",
       "      <td>...</td>\n",
       "      <td>...</td>\n",
       "      <td>...</td>\n",
       "      <td>...</td>\n",
       "      <td>...</td>\n",
       "      <td>...</td>\n",
       "      <td>...</td>\n",
       "    </tr>\n",
       "    <tr>\n",
       "      <th>446</th>\n",
       "      <td>53</td>\n",
       "      <td>1</td>\n",
       "      <td>160</td>\n",
       "      <td>70</td>\n",
       "      <td>80</td>\n",
       "      <td>199</td>\n",
       "      <td>382</td>\n",
       "      <td>154</td>\n",
       "      <td>117</td>\n",
       "      <td>-37</td>\n",
       "      <td>...</td>\n",
       "      <td>0.0</td>\n",
       "      <td>4.3</td>\n",
       "      <td>-5.0</td>\n",
       "      <td>0.0</td>\n",
       "      <td>0.0</td>\n",
       "      <td>0.7</td>\n",
       "      <td>0.6</td>\n",
       "      <td>-4.4</td>\n",
       "      <td>-0.5</td>\n",
       "      <td>1</td>\n",
       "    </tr>\n",
       "    <tr>\n",
       "      <th>447</th>\n",
       "      <td>37</td>\n",
       "      <td>0</td>\n",
       "      <td>190</td>\n",
       "      <td>85</td>\n",
       "      <td>100</td>\n",
       "      <td>137</td>\n",
       "      <td>361</td>\n",
       "      <td>201</td>\n",
       "      <td>73</td>\n",
       "      <td>86</td>\n",
       "      <td>...</td>\n",
       "      <td>0.0</td>\n",
       "      <td>15.6</td>\n",
       "      <td>-1.6</td>\n",
       "      <td>0.0</td>\n",
       "      <td>0.0</td>\n",
       "      <td>0.4</td>\n",
       "      <td>2.4</td>\n",
       "      <td>38.0</td>\n",
       "      <td>62.4</td>\n",
       "      <td>10</td>\n",
       "    </tr>\n",
       "    <tr>\n",
       "      <th>448</th>\n",
       "      <td>36</td>\n",
       "      <td>0</td>\n",
       "      <td>166</td>\n",
       "      <td>68</td>\n",
       "      <td>108</td>\n",
       "      <td>176</td>\n",
       "      <td>365</td>\n",
       "      <td>194</td>\n",
       "      <td>116</td>\n",
       "      <td>-85</td>\n",
       "      <td>...</td>\n",
       "      <td>0.0</td>\n",
       "      <td>16.3</td>\n",
       "      <td>-28.6</td>\n",
       "      <td>0.0</td>\n",
       "      <td>0.0</td>\n",
       "      <td>1.5</td>\n",
       "      <td>1.0</td>\n",
       "      <td>-44.2</td>\n",
       "      <td>-33.2</td>\n",
       "      <td>2</td>\n",
       "    </tr>\n",
       "    <tr>\n",
       "      <th>449</th>\n",
       "      <td>32</td>\n",
       "      <td>1</td>\n",
       "      <td>155</td>\n",
       "      <td>55</td>\n",
       "      <td>93</td>\n",
       "      <td>106</td>\n",
       "      <td>386</td>\n",
       "      <td>218</td>\n",
       "      <td>63</td>\n",
       "      <td>54</td>\n",
       "      <td>...</td>\n",
       "      <td>-0.4</td>\n",
       "      <td>12.0</td>\n",
       "      <td>-0.7</td>\n",
       "      <td>0.0</td>\n",
       "      <td>0.0</td>\n",
       "      <td>0.5</td>\n",
       "      <td>2.4</td>\n",
       "      <td>25.0</td>\n",
       "      <td>46.6</td>\n",
       "      <td>1</td>\n",
       "    </tr>\n",
       "    <tr>\n",
       "      <th>450</th>\n",
       "      <td>78</td>\n",
       "      <td>1</td>\n",
       "      <td>160</td>\n",
       "      <td>70</td>\n",
       "      <td>79</td>\n",
       "      <td>127</td>\n",
       "      <td>364</td>\n",
       "      <td>138</td>\n",
       "      <td>78</td>\n",
       "      <td>28</td>\n",
       "      <td>...</td>\n",
       "      <td>0.0</td>\n",
       "      <td>10.4</td>\n",
       "      <td>-1.8</td>\n",
       "      <td>0.0</td>\n",
       "      <td>0.0</td>\n",
       "      <td>0.5</td>\n",
       "      <td>1.6</td>\n",
       "      <td>21.3</td>\n",
       "      <td>32.8</td>\n",
       "      <td>1</td>\n",
       "    </tr>\n",
       "  </tbody>\n",
       "</table>\n",
       "<p>451 rows × 280 columns</p>\n",
       "</div>"
      ],
      "text/plain": [
       "     0    1    2    3    4    5    6    7    8    9    ...  270   271   272  \\\n",
       "0     56    1  165   64   81  174  401  149   39   25  ...  0.0   8.5   0.0   \n",
       "1     54    0  172   95  138  163  386  185  102   96  ...  0.0   9.5  -2.4   \n",
       "2     55    0  175   94  100  202  380  179  143   28  ...  0.0  12.2  -2.2   \n",
       "3     75    0  190   80   88  181  360  177  103  -16  ...  0.0  13.1  -3.6   \n",
       "4     13    0  169   51  100  167  321  174   91  107  ... -0.6  12.2  -2.8   \n",
       "..   ...  ...  ...  ...  ...  ...  ...  ...  ...  ...  ...  ...   ...   ...   \n",
       "446   53    1  160   70   80  199  382  154  117  -37  ...  0.0   4.3  -5.0   \n",
       "447   37    0  190   85  100  137  361  201   73   86  ...  0.0  15.6  -1.6   \n",
       "448   36    0  166   68  108  176  365  194  116  -85  ...  0.0  16.3 -28.6   \n",
       "449   32    1  155   55   93  106  386  218   63   54  ... -0.4  12.0  -0.7   \n",
       "450   78    1  160   70   79  127  364  138   78   28  ...  0.0  10.4  -1.8   \n",
       "\n",
       "     273  274  275  276   277   278  279  \n",
       "0    0.0  0.0  0.2  2.1  20.4  38.8    6  \n",
       "1    0.0  0.0  0.3  3.4  12.3  49.0   10  \n",
       "2    0.0  0.0  0.4  2.6  34.6  61.6    1  \n",
       "3    0.0  0.0 -0.1  3.9  25.4  62.8    7  \n",
       "4    0.0  0.0  0.9  2.2  13.5  31.1   14  \n",
       "..   ...  ...  ...  ...   ...   ...  ...  \n",
       "446  0.0  0.0  0.7  0.6  -4.4  -0.5    1  \n",
       "447  0.0  0.0  0.4  2.4  38.0  62.4   10  \n",
       "448  0.0  0.0  1.5  1.0 -44.2 -33.2    2  \n",
       "449  0.0  0.0  0.5  2.4  25.0  46.6    1  \n",
       "450  0.0  0.0  0.5  1.6  21.3  32.8    1  \n",
       "\n",
       "[451 rows x 280 columns]"
      ]
     },
     "execution_count": 9,
     "metadata": {},
     "output_type": "execute_result"
    }
   ],
   "source": [
    "df"
   ]
  },
  {
   "cell_type": "code",
   "execution_count": 10,
   "metadata": {},
   "outputs": [
    {
     "data": {
      "text/plain": [
       "407"
      ]
     },
     "execution_count": 10,
     "metadata": {},
     "output_type": "execute_result"
    }
   ],
   "source": [
    "df.isnull().sum().sum()"
   ]
  },
  {
   "cell_type": "markdown",
   "metadata": {},
   "source": [
    "Let's replace the null values by the mean of the columns\n"
   ]
  },
  {
   "cell_type": "code",
   "execution_count": 11,
   "metadata": {},
   "outputs": [],
   "source": [
    "df=df.fillna(df.mean())"
   ]
  },
  {
   "cell_type": "code",
   "execution_count": 12,
   "metadata": {},
   "outputs": [
    {
     "data": {
      "text/plain": [
       "407"
      ]
     },
     "execution_count": 12,
     "metadata": {},
     "output_type": "execute_result"
    }
   ],
   "source": [
    "df.isnull().sum().sum()"
   ]
  },
  {
   "cell_type": "code",
   "execution_count": 13,
   "metadata": {},
   "outputs": [
    {
     "data": {
      "text/plain": [
       "8"
      ]
     },
     "execution_count": 13,
     "metadata": {},
     "output_type": "execute_result"
    }
   ],
   "source": [
    "df[10].isnull().sum().sum()"
   ]
  },
  {
   "cell_type": "code",
   "execution_count": 14,
   "metadata": {},
   "outputs": [
    {
     "data": {
      "text/plain": [
       "22"
      ]
     },
     "execution_count": 14,
     "metadata": {},
     "output_type": "execute_result"
    }
   ],
   "source": [
    "df[11].isnull().sum().sum()"
   ]
  },
  {
   "cell_type": "code",
   "execution_count": 15,
   "metadata": {},
   "outputs": [
    {
     "data": {
      "text/plain": [
       "1"
      ]
     },
     "execution_count": 15,
     "metadata": {},
     "output_type": "execute_result"
    }
   ],
   "source": [
    "df[12].isnull().sum().sum()"
   ]
  },
  {
   "cell_type": "code",
   "execution_count": 16,
   "metadata": {},
   "outputs": [
    {
     "data": {
      "text/plain": [
       "375"
      ]
     },
     "execution_count": 16,
     "metadata": {},
     "output_type": "execute_result"
    }
   ],
   "source": [
    "df[13].isnull().sum().sum()"
   ]
  },
  {
   "cell_type": "markdown",
   "metadata": {},
   "source": [
    "Column 13 will be deleted since there are 375 null value out of 451 value in the columns which makes it a corrupted columns"
   ]
  },
  {
   "cell_type": "code",
   "execution_count": 17,
   "metadata": {},
   "outputs": [
    {
     "data": {
      "text/plain": [
       "1"
      ]
     },
     "execution_count": 17,
     "metadata": {},
     "output_type": "execute_result"
    }
   ],
   "source": [
    "df[14].isnull().sum().sum()"
   ]
  },
  {
   "cell_type": "code",
   "execution_count": 18,
   "metadata": {},
   "outputs": [],
   "source": [
    "df=df.drop(columns=[13])"
   ]
  },
  {
   "cell_type": "markdown",
   "metadata": {},
   "source": [
    "Nothing has changed let's see why"
   ]
  },
  {
   "cell_type": "code",
   "execution_count": 19,
   "metadata": {},
   "outputs": [
    {
     "data": {
      "text/html": [
       "<div>\n",
       "<style scoped>\n",
       "    .dataframe tbody tr th:only-of-type {\n",
       "        vertical-align: middle;\n",
       "    }\n",
       "\n",
       "    .dataframe tbody tr th {\n",
       "        vertical-align: top;\n",
       "    }\n",
       "\n",
       "    .dataframe thead th {\n",
       "        text-align: right;\n",
       "    }\n",
       "</style>\n",
       "<table border=\"1\" class=\"dataframe\">\n",
       "  <thead>\n",
       "    <tr style=\"text-align: right;\">\n",
       "      <th></th>\n",
       "      <th>10</th>\n",
       "      <th>11</th>\n",
       "      <th>12</th>\n",
       "      <th>14</th>\n",
       "    </tr>\n",
       "  </thead>\n",
       "  <tbody>\n",
       "    <tr>\n",
       "      <th>0</th>\n",
       "      <td>37</td>\n",
       "      <td>-17</td>\n",
       "      <td>31</td>\n",
       "      <td>53</td>\n",
       "    </tr>\n",
       "    <tr>\n",
       "      <th>1</th>\n",
       "      <td>34</td>\n",
       "      <td>70</td>\n",
       "      <td>66</td>\n",
       "      <td>75</td>\n",
       "    </tr>\n",
       "    <tr>\n",
       "      <th>2</th>\n",
       "      <td>11</td>\n",
       "      <td>-5</td>\n",
       "      <td>20</td>\n",
       "      <td>71</td>\n",
       "    </tr>\n",
       "    <tr>\n",
       "      <th>3</th>\n",
       "      <td>13</td>\n",
       "      <td>61</td>\n",
       "      <td>3</td>\n",
       "      <td>NaN</td>\n",
       "    </tr>\n",
       "    <tr>\n",
       "      <th>4</th>\n",
       "      <td>66</td>\n",
       "      <td>52</td>\n",
       "      <td>88</td>\n",
       "      <td>84</td>\n",
       "    </tr>\n",
       "    <tr>\n",
       "      <th>...</th>\n",
       "      <td>...</td>\n",
       "      <td>...</td>\n",
       "      <td>...</td>\n",
       "      <td>...</td>\n",
       "    </tr>\n",
       "    <tr>\n",
       "      <th>446</th>\n",
       "      <td>4</td>\n",
       "      <td>40</td>\n",
       "      <td>-27</td>\n",
       "      <td>63</td>\n",
       "    </tr>\n",
       "    <tr>\n",
       "      <th>447</th>\n",
       "      <td>66</td>\n",
       "      <td>52</td>\n",
       "      <td>79</td>\n",
       "      <td>73</td>\n",
       "    </tr>\n",
       "    <tr>\n",
       "      <th>448</th>\n",
       "      <td>-19</td>\n",
       "      <td>-61</td>\n",
       "      <td>-70</td>\n",
       "      <td>84</td>\n",
       "    </tr>\n",
       "    <tr>\n",
       "      <th>449</th>\n",
       "      <td>29</td>\n",
       "      <td>-22</td>\n",
       "      <td>43</td>\n",
       "      <td>80</td>\n",
       "    </tr>\n",
       "    <tr>\n",
       "      <th>450</th>\n",
       "      <td>79</td>\n",
       "      <td>52</td>\n",
       "      <td>47</td>\n",
       "      <td>75</td>\n",
       "    </tr>\n",
       "  </tbody>\n",
       "</table>\n",
       "<p>451 rows × 4 columns</p>\n",
       "</div>"
      ],
      "text/plain": [
       "      10   11   12   14\n",
       "0     37  -17   31   53\n",
       "1     34   70   66   75\n",
       "2     11   -5   20   71\n",
       "3     13   61    3  NaN\n",
       "4     66   52   88   84\n",
       "..   ...  ...  ...  ...\n",
       "446    4   40  -27   63\n",
       "447   66   52   79   73\n",
       "448  -19  -61  -70   84\n",
       "449   29  -22   43   80\n",
       "450   79   52   47   75\n",
       "\n",
       "[451 rows x 4 columns]"
      ]
     },
     "execution_count": 19,
     "metadata": {},
     "output_type": "execute_result"
    }
   ],
   "source": [
    "df[df.columns[df.isna().any()]]"
   ]
  },
  {
   "cell_type": "markdown",
   "metadata": {},
   "source": [
    "Let's explore what is the problem"
   ]
  },
  {
   "cell_type": "code",
   "execution_count": 20,
   "metadata": {},
   "outputs": [
    {
     "data": {
      "text/plain": [
       "0       37\n",
       "1       34\n",
       "2       11\n",
       "3       13\n",
       "4       66\n",
       "      ... \n",
       "446      4\n",
       "447     66\n",
       "448    -19\n",
       "449     29\n",
       "450     79\n",
       "Name: 10, Length: 451, dtype: object"
      ]
     },
     "execution_count": 20,
     "metadata": {},
     "output_type": "execute_result"
    }
   ],
   "source": [
    "df[10]"
   ]
  },
  {
   "cell_type": "markdown",
   "metadata": {},
   "source": [
    "Note that the dtype  is object let's make sure that all the columns in the dataframe are numeric"
   ]
  },
  {
   "cell_type": "code",
   "execution_count": 21,
   "metadata": {},
   "outputs": [],
   "source": [
    "df = df.apply(pd.to_numeric)"
   ]
  },
  {
   "cell_type": "code",
   "execution_count": 22,
   "metadata": {},
   "outputs": [],
   "source": [
    "df=df.fillna(df.mean())"
   ]
  },
  {
   "cell_type": "code",
   "execution_count": 23,
   "metadata": {},
   "outputs": [
    {
     "data": {
      "text/plain": [
       "0"
      ]
     },
     "execution_count": 23,
     "metadata": {},
     "output_type": "execute_result"
    }
   ],
   "source": [
    "df.isnull().sum().sum()"
   ]
  },
  {
   "cell_type": "markdown",
   "metadata": {},
   "source": [
    "Problem solved :)"
   ]
  },
  {
   "cell_type": "markdown",
   "metadata": {},
   "source": [
    "Let's check for duplicates"
   ]
  },
  {
   "cell_type": "code",
   "execution_count": 24,
   "metadata": {},
   "outputs": [
    {
     "data": {
      "text/html": [
       "<div>\n",
       "<style scoped>\n",
       "    .dataframe tbody tr th:only-of-type {\n",
       "        vertical-align: middle;\n",
       "    }\n",
       "\n",
       "    .dataframe tbody tr th {\n",
       "        vertical-align: top;\n",
       "    }\n",
       "\n",
       "    .dataframe thead th {\n",
       "        text-align: right;\n",
       "    }\n",
       "</style>\n",
       "<table border=\"1\" class=\"dataframe\">\n",
       "  <thead>\n",
       "    <tr style=\"text-align: right;\">\n",
       "      <th></th>\n",
       "      <th>0</th>\n",
       "      <th>1</th>\n",
       "      <th>2</th>\n",
       "      <th>3</th>\n",
       "      <th>4</th>\n",
       "      <th>5</th>\n",
       "      <th>6</th>\n",
       "      <th>7</th>\n",
       "      <th>8</th>\n",
       "      <th>9</th>\n",
       "      <th>...</th>\n",
       "      <th>270</th>\n",
       "      <th>271</th>\n",
       "      <th>272</th>\n",
       "      <th>273</th>\n",
       "      <th>274</th>\n",
       "      <th>275</th>\n",
       "      <th>276</th>\n",
       "      <th>277</th>\n",
       "      <th>278</th>\n",
       "      <th>279</th>\n",
       "    </tr>\n",
       "  </thead>\n",
       "  <tbody>\n",
       "    <tr>\n",
       "      <th>0</th>\n",
       "      <td>56</td>\n",
       "      <td>1</td>\n",
       "      <td>165</td>\n",
       "      <td>64</td>\n",
       "      <td>81</td>\n",
       "      <td>174</td>\n",
       "      <td>401</td>\n",
       "      <td>149</td>\n",
       "      <td>39</td>\n",
       "      <td>25</td>\n",
       "      <td>...</td>\n",
       "      <td>0.0</td>\n",
       "      <td>8.5</td>\n",
       "      <td>0.0</td>\n",
       "      <td>0.0</td>\n",
       "      <td>0.0</td>\n",
       "      <td>0.2</td>\n",
       "      <td>2.1</td>\n",
       "      <td>20.4</td>\n",
       "      <td>38.8</td>\n",
       "      <td>6</td>\n",
       "    </tr>\n",
       "    <tr>\n",
       "      <th>1</th>\n",
       "      <td>54</td>\n",
       "      <td>0</td>\n",
       "      <td>172</td>\n",
       "      <td>95</td>\n",
       "      <td>138</td>\n",
       "      <td>163</td>\n",
       "      <td>386</td>\n",
       "      <td>185</td>\n",
       "      <td>102</td>\n",
       "      <td>96</td>\n",
       "      <td>...</td>\n",
       "      <td>0.0</td>\n",
       "      <td>9.5</td>\n",
       "      <td>-2.4</td>\n",
       "      <td>0.0</td>\n",
       "      <td>0.0</td>\n",
       "      <td>0.3</td>\n",
       "      <td>3.4</td>\n",
       "      <td>12.3</td>\n",
       "      <td>49.0</td>\n",
       "      <td>10</td>\n",
       "    </tr>\n",
       "    <tr>\n",
       "      <th>2</th>\n",
       "      <td>55</td>\n",
       "      <td>0</td>\n",
       "      <td>175</td>\n",
       "      <td>94</td>\n",
       "      <td>100</td>\n",
       "      <td>202</td>\n",
       "      <td>380</td>\n",
       "      <td>179</td>\n",
       "      <td>143</td>\n",
       "      <td>28</td>\n",
       "      <td>...</td>\n",
       "      <td>0.0</td>\n",
       "      <td>12.2</td>\n",
       "      <td>-2.2</td>\n",
       "      <td>0.0</td>\n",
       "      <td>0.0</td>\n",
       "      <td>0.4</td>\n",
       "      <td>2.6</td>\n",
       "      <td>34.6</td>\n",
       "      <td>61.6</td>\n",
       "      <td>1</td>\n",
       "    </tr>\n",
       "    <tr>\n",
       "      <th>3</th>\n",
       "      <td>75</td>\n",
       "      <td>0</td>\n",
       "      <td>190</td>\n",
       "      <td>80</td>\n",
       "      <td>88</td>\n",
       "      <td>181</td>\n",
       "      <td>360</td>\n",
       "      <td>177</td>\n",
       "      <td>103</td>\n",
       "      <td>-16</td>\n",
       "      <td>...</td>\n",
       "      <td>0.0</td>\n",
       "      <td>13.1</td>\n",
       "      <td>-3.6</td>\n",
       "      <td>0.0</td>\n",
       "      <td>0.0</td>\n",
       "      <td>-0.1</td>\n",
       "      <td>3.9</td>\n",
       "      <td>25.4</td>\n",
       "      <td>62.8</td>\n",
       "      <td>7</td>\n",
       "    </tr>\n",
       "    <tr>\n",
       "      <th>4</th>\n",
       "      <td>13</td>\n",
       "      <td>0</td>\n",
       "      <td>169</td>\n",
       "      <td>51</td>\n",
       "      <td>100</td>\n",
       "      <td>167</td>\n",
       "      <td>321</td>\n",
       "      <td>174</td>\n",
       "      <td>91</td>\n",
       "      <td>107</td>\n",
       "      <td>...</td>\n",
       "      <td>-0.6</td>\n",
       "      <td>12.2</td>\n",
       "      <td>-2.8</td>\n",
       "      <td>0.0</td>\n",
       "      <td>0.0</td>\n",
       "      <td>0.9</td>\n",
       "      <td>2.2</td>\n",
       "      <td>13.5</td>\n",
       "      <td>31.1</td>\n",
       "      <td>14</td>\n",
       "    </tr>\n",
       "    <tr>\n",
       "      <th>...</th>\n",
       "      <td>...</td>\n",
       "      <td>...</td>\n",
       "      <td>...</td>\n",
       "      <td>...</td>\n",
       "      <td>...</td>\n",
       "      <td>...</td>\n",
       "      <td>...</td>\n",
       "      <td>...</td>\n",
       "      <td>...</td>\n",
       "      <td>...</td>\n",
       "      <td>...</td>\n",
       "      <td>...</td>\n",
       "      <td>...</td>\n",
       "      <td>...</td>\n",
       "      <td>...</td>\n",
       "      <td>...</td>\n",
       "      <td>...</td>\n",
       "      <td>...</td>\n",
       "      <td>...</td>\n",
       "      <td>...</td>\n",
       "      <td>...</td>\n",
       "    </tr>\n",
       "    <tr>\n",
       "      <th>446</th>\n",
       "      <td>53</td>\n",
       "      <td>1</td>\n",
       "      <td>160</td>\n",
       "      <td>70</td>\n",
       "      <td>80</td>\n",
       "      <td>199</td>\n",
       "      <td>382</td>\n",
       "      <td>154</td>\n",
       "      <td>117</td>\n",
       "      <td>-37</td>\n",
       "      <td>...</td>\n",
       "      <td>0.0</td>\n",
       "      <td>4.3</td>\n",
       "      <td>-5.0</td>\n",
       "      <td>0.0</td>\n",
       "      <td>0.0</td>\n",
       "      <td>0.7</td>\n",
       "      <td>0.6</td>\n",
       "      <td>-4.4</td>\n",
       "      <td>-0.5</td>\n",
       "      <td>1</td>\n",
       "    </tr>\n",
       "    <tr>\n",
       "      <th>447</th>\n",
       "      <td>37</td>\n",
       "      <td>0</td>\n",
       "      <td>190</td>\n",
       "      <td>85</td>\n",
       "      <td>100</td>\n",
       "      <td>137</td>\n",
       "      <td>361</td>\n",
       "      <td>201</td>\n",
       "      <td>73</td>\n",
       "      <td>86</td>\n",
       "      <td>...</td>\n",
       "      <td>0.0</td>\n",
       "      <td>15.6</td>\n",
       "      <td>-1.6</td>\n",
       "      <td>0.0</td>\n",
       "      <td>0.0</td>\n",
       "      <td>0.4</td>\n",
       "      <td>2.4</td>\n",
       "      <td>38.0</td>\n",
       "      <td>62.4</td>\n",
       "      <td>10</td>\n",
       "    </tr>\n",
       "    <tr>\n",
       "      <th>448</th>\n",
       "      <td>36</td>\n",
       "      <td>0</td>\n",
       "      <td>166</td>\n",
       "      <td>68</td>\n",
       "      <td>108</td>\n",
       "      <td>176</td>\n",
       "      <td>365</td>\n",
       "      <td>194</td>\n",
       "      <td>116</td>\n",
       "      <td>-85</td>\n",
       "      <td>...</td>\n",
       "      <td>0.0</td>\n",
       "      <td>16.3</td>\n",
       "      <td>-28.6</td>\n",
       "      <td>0.0</td>\n",
       "      <td>0.0</td>\n",
       "      <td>1.5</td>\n",
       "      <td>1.0</td>\n",
       "      <td>-44.2</td>\n",
       "      <td>-33.2</td>\n",
       "      <td>2</td>\n",
       "    </tr>\n",
       "    <tr>\n",
       "      <th>449</th>\n",
       "      <td>32</td>\n",
       "      <td>1</td>\n",
       "      <td>155</td>\n",
       "      <td>55</td>\n",
       "      <td>93</td>\n",
       "      <td>106</td>\n",
       "      <td>386</td>\n",
       "      <td>218</td>\n",
       "      <td>63</td>\n",
       "      <td>54</td>\n",
       "      <td>...</td>\n",
       "      <td>-0.4</td>\n",
       "      <td>12.0</td>\n",
       "      <td>-0.7</td>\n",
       "      <td>0.0</td>\n",
       "      <td>0.0</td>\n",
       "      <td>0.5</td>\n",
       "      <td>2.4</td>\n",
       "      <td>25.0</td>\n",
       "      <td>46.6</td>\n",
       "      <td>1</td>\n",
       "    </tr>\n",
       "    <tr>\n",
       "      <th>450</th>\n",
       "      <td>78</td>\n",
       "      <td>1</td>\n",
       "      <td>160</td>\n",
       "      <td>70</td>\n",
       "      <td>79</td>\n",
       "      <td>127</td>\n",
       "      <td>364</td>\n",
       "      <td>138</td>\n",
       "      <td>78</td>\n",
       "      <td>28</td>\n",
       "      <td>...</td>\n",
       "      <td>0.0</td>\n",
       "      <td>10.4</td>\n",
       "      <td>-1.8</td>\n",
       "      <td>0.0</td>\n",
       "      <td>0.0</td>\n",
       "      <td>0.5</td>\n",
       "      <td>1.6</td>\n",
       "      <td>21.3</td>\n",
       "      <td>32.8</td>\n",
       "      <td>1</td>\n",
       "    </tr>\n",
       "  </tbody>\n",
       "</table>\n",
       "<p>451 rows × 279 columns</p>\n",
       "</div>"
      ],
      "text/plain": [
       "     0    1    2    3    4    5    6    7    8    9    ...  270   271   272  \\\n",
       "0     56    1  165   64   81  174  401  149   39   25  ...  0.0   8.5   0.0   \n",
       "1     54    0  172   95  138  163  386  185  102   96  ...  0.0   9.5  -2.4   \n",
       "2     55    0  175   94  100  202  380  179  143   28  ...  0.0  12.2  -2.2   \n",
       "3     75    0  190   80   88  181  360  177  103  -16  ...  0.0  13.1  -3.6   \n",
       "4     13    0  169   51  100  167  321  174   91  107  ... -0.6  12.2  -2.8   \n",
       "..   ...  ...  ...  ...  ...  ...  ...  ...  ...  ...  ...  ...   ...   ...   \n",
       "446   53    1  160   70   80  199  382  154  117  -37  ...  0.0   4.3  -5.0   \n",
       "447   37    0  190   85  100  137  361  201   73   86  ...  0.0  15.6  -1.6   \n",
       "448   36    0  166   68  108  176  365  194  116  -85  ...  0.0  16.3 -28.6   \n",
       "449   32    1  155   55   93  106  386  218   63   54  ... -0.4  12.0  -0.7   \n",
       "450   78    1  160   70   79  127  364  138   78   28  ...  0.0  10.4  -1.8   \n",
       "\n",
       "     273  274  275  276   277   278  279  \n",
       "0    0.0  0.0  0.2  2.1  20.4  38.8    6  \n",
       "1    0.0  0.0  0.3  3.4  12.3  49.0   10  \n",
       "2    0.0  0.0  0.4  2.6  34.6  61.6    1  \n",
       "3    0.0  0.0 -0.1  3.9  25.4  62.8    7  \n",
       "4    0.0  0.0  0.9  2.2  13.5  31.1   14  \n",
       "..   ...  ...  ...  ...   ...   ...  ...  \n",
       "446  0.0  0.0  0.7  0.6  -4.4  -0.5    1  \n",
       "447  0.0  0.0  0.4  2.4  38.0  62.4   10  \n",
       "448  0.0  0.0  1.5  1.0 -44.2 -33.2    2  \n",
       "449  0.0  0.0  0.5  2.4  25.0  46.6    1  \n",
       "450  0.0  0.0  0.5  1.6  21.3  32.8    1  \n",
       "\n",
       "[451 rows x 279 columns]"
      ]
     },
     "execution_count": 24,
     "metadata": {},
     "output_type": "execute_result"
    }
   ],
   "source": [
    "df.drop_duplicates(keep='first', inplace=True)\n",
    "df"
   ]
  },
  {
   "cell_type": "markdown",
   "metadata": {},
   "source": [
    "There are no duplicates :)"
   ]
  },
  {
   "cell_type": "markdown",
   "metadata": {},
   "source": [
    "Let's check for outliers"
   ]
  },
  {
   "cell_type": "code",
   "execution_count": 25,
   "metadata": {},
   "outputs": [
    {
     "name": "stdout",
     "output_type": "stream",
     "text": [
      "1     245\n",
      "10     50\n",
      "2      44\n",
      "6      25\n",
      "16     22\n",
      "4      15\n",
      "3      15\n",
      "5      13\n",
      "9       9\n",
      "15      5\n",
      "14      4\n",
      "7       3\n",
      "8       1\n",
      "Name: 279, dtype: int64\n"
     ]
    }
   ],
   "source": [
    "classes=df[279].value_counts()\n",
    "print(classes)"
   ]
  },
  {
   "cell_type": "markdown",
   "metadata": {},
   "source": [
    "Weights of classes"
   ]
  },
  {
   "cell_type": "markdown",
   "metadata": {},
   "source": [
    "weight= no_sample/(no_classes*ClassSample)"
   ]
  },
  {
   "cell_type": "markdown",
   "metadata": {},
   "source": [
    "1:0.115, , 2:0.64, 3:1.879, 4:1.879, 5:2.168, 6:1.128,7:9.396, 8:28.188, 9:3.132,10:0.564, 14:7.047, 15:5.638, 16:1.281 \n",
    "                                                          \n",
    "                                                                                                           \n",
    "                                                       \n",
    "                                                    "
   ]
  },
  {
   "cell_type": "code",
   "execution_count": 26,
   "metadata": {
    "scrolled": true
   },
   "outputs": [
    {
     "data": {
      "image/png": "[encoded data removed]",
      "text/plain": [
       "<Figure size 720x504 with 1 Axes>"
      ]
     },
     "metadata": {},
     "output_type": "display_data"
    }
   ],
   "source": [
    "def func(pct, allvalues):\n",
    "    absolute = int(pct / 100.*np.sum(allvalues))\n",
    "    return \"{:.1f}%\\n\".format(pct, absolute)\n",
    "classeslabels = [1,10,2,6,16,4,3,5,9,15,14,7,8]\n",
    "fig = plt.figure(figsize =(10, 7))\n",
    "plt.pie(classes,autopct = lambda pct: func(pct, classes),labels = classeslabels)  \n",
    "plt.title (\"Percentage of Classes\")\n",
    "plt.show() "
   ]
  },
  {
   "cell_type": "markdown",
   "metadata": {},
   "source": [
    "# Scaling the data"
   ]
  },
  {
   "cell_type": "code",
   "execution_count": 27,
   "metadata": {
    "scrolled": false
   },
   "outputs": [
    {
     "data": {
      "image/png": "[encoded data removed]",
      "text/plain": [
       "<Figure size 1440x360 with 1 Axes>"
      ]
     },
     "metadata": {
      "needs_background": "light"
     },
     "output_type": "display_data"
    }
   ],
   "source": [
    "fig = plt.figure(figsize =(20, 5))\n",
    "df.boxplot()\n",
    "plt.show()"
   ]
  },
  {
   "cell_type": "markdown",
   "metadata": {},
   "source": [
    "Let's standardize the outliers "
   ]
  },
  {
   "cell_type": "code",
   "execution_count": 28,
   "metadata": {
    "scrolled": true
   },
   "outputs": [
    {
     "data": {
      "text/plain": [
       "array([[ 5.84464972e-01,  9.00691390e-01, -3.05558949e-02, ...,\n",
       "         8.01848022e-02,  5.07359248e-01,  4.83463980e-01],\n",
       "       [ 4.62600107e-01, -1.11025820e+00,  1.57852230e-01, ...,\n",
       "        -5.19698673e-01,  1.05960448e+00,  1.39197338e+00],\n",
       "       [ 5.23532540e-01, -1.11025820e+00,  2.38598570e-01, ...,\n",
       "         1.13183238e+00,  1.74178976e+00, -6.52172764e-01],\n",
       "       ...,\n",
       "       [-6.34183675e-01, -1.11025820e+00, -3.64044842e-03, ...,\n",
       "        -4.70407106e+00, -3.39084237e+00, -4.25045416e-01],\n",
       "       [-8.77913405e-01,  9.00691390e-01, -2.99710360e-01, ...,\n",
       "         4.20859368e-01,  9.29664423e-01, -6.52172764e-01],\n",
       "       [ 1.92497848e+00,  9.00691390e-01, -1.65133127e-01, ...,\n",
       "         1.46838522e-01,  1.82509113e-01, -6.52172764e-01]])"
      ]
     },
     "execution_count": 28,
     "metadata": {},
     "output_type": "execute_result"
    }
   ],
   "source": [
    "scaler = StandardScaler()\n",
    "scaler.fit(df)\n",
    "scaled_df = scaler.transform(df)\n",
    "scaled_df"
   ]
  },
  {
   "cell_type": "code",
   "execution_count": 29,
   "metadata": {
    "scrolled": true
   },
   "outputs": [
    {
     "data": {
      "image/png": "[encoded data removed]",
      "text/plain": [
       "<Figure size 1440x360 with 1 Axes>"
      ]
     },
     "metadata": {
      "needs_background": "light"
     },
     "output_type": "display_data"
    }
   ],
   "source": [
    "fig = plt.figure(figsize =(20, 5))\n",
    "scaled_df=pd.DataFrame(scaled_df)\n",
    "scaled_df.boxplot()\n",
    "plt.show()"
   ]
  },
  {
   "cell_type": "code",
   "execution_count": 30,
   "metadata": {
    "scrolled": false
   },
   "outputs": [
    {
     "data": {
      "text/html": [
       "<div>\n",
       "<style scoped>\n",
       "    .dataframe tbody tr th:only-of-type {\n",
       "        vertical-align: middle;\n",
       "    }\n",
       "\n",
       "    .dataframe tbody tr th {\n",
       "        vertical-align: top;\n",
       "    }\n",
       "\n",
       "    .dataframe thead th {\n",
       "        text-align: right;\n",
       "    }\n",
       "</style>\n",
       "<table border=\"1\" class=\"dataframe\">\n",
       "  <thead>\n",
       "    <tr style=\"text-align: right;\">\n",
       "      <th></th>\n",
       "      <th>0</th>\n",
       "      <th>1</th>\n",
       "      <th>2</th>\n",
       "      <th>3</th>\n",
       "      <th>4</th>\n",
       "      <th>5</th>\n",
       "      <th>6</th>\n",
       "      <th>7</th>\n",
       "      <th>8</th>\n",
       "      <th>9</th>\n",
       "      <th>...</th>\n",
       "      <th>269</th>\n",
       "      <th>270</th>\n",
       "      <th>271</th>\n",
       "      <th>272</th>\n",
       "      <th>273</th>\n",
       "      <th>274</th>\n",
       "      <th>275</th>\n",
       "      <th>276</th>\n",
       "      <th>277</th>\n",
       "      <th>278</th>\n",
       "    </tr>\n",
       "  </thead>\n",
       "  <tbody>\n",
       "    <tr>\n",
       "      <th>0</th>\n",
       "      <td>0.584465</td>\n",
       "      <td>0.900691</td>\n",
       "      <td>-0.030556</td>\n",
       "      <td>-0.249926</td>\n",
       "      <td>-0.515211</td>\n",
       "      <td>0.422509</td>\n",
       "      <td>1.012446</td>\n",
       "      <td>-0.587668</td>\n",
       "      <td>-1.975379</td>\n",
       "      <td>-0.193673</td>\n",
       "      <td>...</td>\n",
       "      <td>0.509553</td>\n",
       "      <td>-0.157828</td>\n",
       "      <td>0.728446</td>\n",
       "      <td>-0.079635</td>\n",
       "      <td>0.0</td>\n",
       "      <td>-0.904664</td>\n",
       "      <td>0.619005</td>\n",
       "      <td>0.080185</td>\n",
       "      <td>0.507359</td>\n",
       "      <td>0.483464</td>\n",
       "    </tr>\n",
       "    <tr>\n",
       "      <th>1</th>\n",
       "      <td>0.462600</td>\n",
       "      <td>-1.110258</td>\n",
       "      <td>0.157852</td>\n",
       "      <td>1.619636</td>\n",
       "      <td>3.194741</td>\n",
       "      <td>0.177010</td>\n",
       "      <td>0.563141</td>\n",
       "      <td>0.422643</td>\n",
       "      <td>0.467876</td>\n",
       "      <td>1.371202</td>\n",
       "      <td>...</td>\n",
       "      <td>0.509553</td>\n",
       "      <td>0.130119</td>\n",
       "      <td>-0.470201</td>\n",
       "      <td>-0.079635</td>\n",
       "      <td>0.0</td>\n",
       "      <td>-0.616526</td>\n",
       "      <td>1.532018</td>\n",
       "      <td>-0.519699</td>\n",
       "      <td>1.059604</td>\n",
       "      <td>1.391973</td>\n",
       "    </tr>\n",
       "    <tr>\n",
       "      <th>2</th>\n",
       "      <td>0.523533</td>\n",
       "      <td>-1.110258</td>\n",
       "      <td>0.238599</td>\n",
       "      <td>1.559327</td>\n",
       "      <td>0.721440</td>\n",
       "      <td>1.047414</td>\n",
       "      <td>0.383420</td>\n",
       "      <td>0.254258</td>\n",
       "      <td>2.057930</td>\n",
       "      <td>-0.127551</td>\n",
       "      <td>...</td>\n",
       "      <td>0.509553</td>\n",
       "      <td>0.907576</td>\n",
       "      <td>-0.370314</td>\n",
       "      <td>-0.079635</td>\n",
       "      <td>0.0</td>\n",
       "      <td>-0.328388</td>\n",
       "      <td>0.970164</td>\n",
       "      <td>1.131832</td>\n",
       "      <td>1.741790</td>\n",
       "      <td>-0.652173</td>\n",
       "    </tr>\n",
       "    <tr>\n",
       "      <th>3</th>\n",
       "      <td>1.742181</td>\n",
       "      <td>-1.110258</td>\n",
       "      <td>0.642330</td>\n",
       "      <td>0.715009</td>\n",
       "      <td>-0.059603</td>\n",
       "      <td>0.578735</td>\n",
       "      <td>-0.215653</td>\n",
       "      <td>0.198130</td>\n",
       "      <td>0.506657</td>\n",
       "      <td>-1.097333</td>\n",
       "      <td>...</td>\n",
       "      <td>0.509553</td>\n",
       "      <td>1.166728</td>\n",
       "      <td>-1.069525</td>\n",
       "      <td>-0.079635</td>\n",
       "      <td>0.0</td>\n",
       "      <td>-1.769077</td>\n",
       "      <td>1.883177</td>\n",
       "      <td>0.450483</td>\n",
       "      <td>1.806760</td>\n",
       "      <td>0.710591</td>\n",
       "    </tr>\n",
       "    <tr>\n",
       "      <th>4</th>\n",
       "      <td>-2.035630</td>\n",
       "      <td>-1.110258</td>\n",
       "      <td>0.077106</td>\n",
       "      <td>-1.033935</td>\n",
       "      <td>0.721440</td>\n",
       "      <td>0.266283</td>\n",
       "      <td>-1.383844</td>\n",
       "      <td>0.113937</td>\n",
       "      <td>0.041276</td>\n",
       "      <td>1.613647</td>\n",
       "      <td>...</td>\n",
       "      <td>-0.583905</td>\n",
       "      <td>0.907576</td>\n",
       "      <td>-0.669976</td>\n",
       "      <td>-0.079635</td>\n",
       "      <td>0.0</td>\n",
       "      <td>1.112302</td>\n",
       "      <td>0.689237</td>\n",
       "      <td>-0.430827</td>\n",
       "      <td>0.090468</td>\n",
       "      <td>2.300483</td>\n",
       "    </tr>\n",
       "    <tr>\n",
       "      <th>...</th>\n",
       "      <td>...</td>\n",
       "      <td>...</td>\n",
       "      <td>...</td>\n",
       "      <td>...</td>\n",
       "      <td>...</td>\n",
       "      <td>...</td>\n",
       "      <td>...</td>\n",
       "      <td>...</td>\n",
       "      <td>...</td>\n",
       "      <td>...</td>\n",
       "      <td>...</td>\n",
       "      <td>...</td>\n",
       "      <td>...</td>\n",
       "      <td>...</td>\n",
       "      <td>...</td>\n",
       "      <td>...</td>\n",
       "      <td>...</td>\n",
       "      <td>...</td>\n",
       "      <td>...</td>\n",
       "      <td>...</td>\n",
       "      <td>...</td>\n",
       "    </tr>\n",
       "    <tr>\n",
       "      <th>446</th>\n",
       "      <td>0.401668</td>\n",
       "      <td>0.900691</td>\n",
       "      <td>-0.165133</td>\n",
       "      <td>0.111925</td>\n",
       "      <td>-0.580298</td>\n",
       "      <td>0.980460</td>\n",
       "      <td>0.443327</td>\n",
       "      <td>-0.447347</td>\n",
       "      <td>1.049603</td>\n",
       "      <td>-1.560183</td>\n",
       "      <td>...</td>\n",
       "      <td>0.509553</td>\n",
       "      <td>-1.367205</td>\n",
       "      <td>-1.768735</td>\n",
       "      <td>-0.079635</td>\n",
       "      <td>0.0</td>\n",
       "      <td>0.536026</td>\n",
       "      <td>-0.434471</td>\n",
       "      <td>-1.756495</td>\n",
       "      <td>-1.620409</td>\n",
       "      <td>-0.652173</td>\n",
       "    </tr>\n",
       "    <tr>\n",
       "      <th>447</th>\n",
       "      <td>-0.573251</td>\n",
       "      <td>-1.110258</td>\n",
       "      <td>0.642330</td>\n",
       "      <td>1.016552</td>\n",
       "      <td>0.721440</td>\n",
       "      <td>-0.403259</td>\n",
       "      <td>-0.185699</td>\n",
       "      <td>0.871671</td>\n",
       "      <td>-0.656797</td>\n",
       "      <td>1.150797</td>\n",
       "      <td>...</td>\n",
       "      <td>0.509553</td>\n",
       "      <td>1.886595</td>\n",
       "      <td>-0.070652</td>\n",
       "      <td>-0.079635</td>\n",
       "      <td>0.0</td>\n",
       "      <td>-0.328388</td>\n",
       "      <td>0.829700</td>\n",
       "      <td>1.383635</td>\n",
       "      <td>1.785103</td>\n",
       "      <td>1.391973</td>\n",
       "    </tr>\n",
       "    <tr>\n",
       "      <th>448</th>\n",
       "      <td>-0.634184</td>\n",
       "      <td>-1.110258</td>\n",
       "      <td>-0.003640</td>\n",
       "      <td>-0.008692</td>\n",
       "      <td>1.242135</td>\n",
       "      <td>0.467145</td>\n",
       "      <td>-0.065885</td>\n",
       "      <td>0.675221</td>\n",
       "      <td>1.010821</td>\n",
       "      <td>-2.618127</td>\n",
       "      <td>...</td>\n",
       "      <td>0.509553</td>\n",
       "      <td>2.088158</td>\n",
       "      <td>-13.555432</td>\n",
       "      <td>-0.079635</td>\n",
       "      <td>0.0</td>\n",
       "      <td>2.841129</td>\n",
       "      <td>-0.153544</td>\n",
       "      <td>-4.704071</td>\n",
       "      <td>-3.390842</td>\n",
       "      <td>-0.425045</td>\n",
       "    </tr>\n",
       "    <tr>\n",
       "      <th>449</th>\n",
       "      <td>-0.877913</td>\n",
       "      <td>0.900691</td>\n",
       "      <td>-0.299710</td>\n",
       "      <td>-0.792702</td>\n",
       "      <td>0.265832</td>\n",
       "      <td>-1.095119</td>\n",
       "      <td>0.563141</td>\n",
       "      <td>1.348763</td>\n",
       "      <td>-1.044615</td>\n",
       "      <td>0.445501</td>\n",
       "      <td>...</td>\n",
       "      <td>-0.219419</td>\n",
       "      <td>0.849986</td>\n",
       "      <td>0.378841</td>\n",
       "      <td>-0.079635</td>\n",
       "      <td>0.0</td>\n",
       "      <td>-0.040250</td>\n",
       "      <td>0.829700</td>\n",
       "      <td>0.420859</td>\n",
       "      <td>0.929664</td>\n",
       "      <td>-0.652173</td>\n",
       "    </tr>\n",
       "    <tr>\n",
       "      <th>450</th>\n",
       "      <td>1.924978</td>\n",
       "      <td>0.900691</td>\n",
       "      <td>-0.165133</td>\n",
       "      <td>0.111925</td>\n",
       "      <td>-0.645385</td>\n",
       "      <td>-0.626440</td>\n",
       "      <td>-0.095838</td>\n",
       "      <td>-0.896375</td>\n",
       "      <td>-0.462888</td>\n",
       "      <td>-0.127551</td>\n",
       "      <td>...</td>\n",
       "      <td>0.509553</td>\n",
       "      <td>0.389271</td>\n",
       "      <td>-0.170539</td>\n",
       "      <td>-0.079635</td>\n",
       "      <td>0.0</td>\n",
       "      <td>-0.040250</td>\n",
       "      <td>0.267846</td>\n",
       "      <td>0.146839</td>\n",
       "      <td>0.182509</td>\n",
       "      <td>-0.652173</td>\n",
       "    </tr>\n",
       "  </tbody>\n",
       "</table>\n",
       "<p>451 rows × 279 columns</p>\n",
       "</div>"
      ],
      "text/plain": [
       "          0         1         2         3         4         5         6    \\\n",
       "0    0.584465  0.900691 -0.030556 -0.249926 -0.515211  0.422509  1.012446   \n",
       "1    0.462600 -1.110258  0.157852  1.619636  3.194741  0.177010  0.563141   \n",
       "2    0.523533 -1.110258  0.238599  1.559327  0.721440  1.047414  0.383420   \n",
       "3    1.742181 -1.110258  0.642330  0.715009 -0.059603  0.578735 -0.215653   \n",
       "4   -2.035630 -1.110258  0.077106 -1.033935  0.721440  0.266283 -1.383844   \n",
       "..        ...       ...       ...       ...       ...       ...       ...   \n",
       "446  0.401668  0.900691 -0.165133  0.111925 -0.580298  0.980460  0.443327   \n",
       "447 -0.573251 -1.110258  0.642330  1.016552  0.721440 -0.403259 -0.185699   \n",
       "448 -0.634184 -1.110258 -0.003640 -0.008692  1.242135  0.467145 -0.065885   \n",
       "449 -0.877913  0.900691 -0.299710 -0.792702  0.265832 -1.095119  0.563141   \n",
       "450  1.924978  0.900691 -0.165133  0.111925 -0.645385 -0.626440 -0.095838   \n",
       "\n",
       "          7         8         9    ...       269       270        271  \\\n",
       "0   -0.587668 -1.975379 -0.193673  ...  0.509553 -0.157828   0.728446   \n",
       "1    0.422643  0.467876  1.371202  ...  0.509553  0.130119  -0.470201   \n",
       "2    0.254258  2.057930 -0.127551  ...  0.509553  0.907576  -0.370314   \n",
       "3    0.198130  0.506657 -1.097333  ...  0.509553  1.166728  -1.069525   \n",
       "4    0.113937  0.041276  1.613647  ... -0.583905  0.907576  -0.669976   \n",
       "..        ...       ...       ...  ...       ...       ...        ...   \n",
       "446 -0.447347  1.049603 -1.560183  ...  0.509553 -1.367205  -1.768735   \n",
       "447  0.871671 -0.656797  1.150797  ...  0.509553  1.886595  -0.070652   \n",
       "448  0.675221  1.010821 -2.618127  ...  0.509553  2.088158 -13.555432   \n",
       "449  1.348763 -1.044615  0.445501  ... -0.219419  0.849986   0.378841   \n",
       "450 -0.896375 -0.462888 -0.127551  ...  0.509553  0.389271  -0.170539   \n",
       "\n",
       "          272  273       274       275       276       277       278  \n",
       "0   -0.079635  0.0 -0.904664  0.619005  0.080185  0.507359  0.483464  \n",
       "1   -0.079635  0.0 -0.616526  1.532018 -0.519699  1.059604  1.391973  \n",
       "2   -0.079635  0.0 -0.328388  0.970164  1.131832  1.741790 -0.652173  \n",
       "3   -0.079635  0.0 -1.769077  1.883177  0.450483  1.806760  0.710591  \n",
       "4   -0.079635  0.0  1.112302  0.689237 -0.430827  0.090468  2.300483  \n",
       "..        ...  ...       ...       ...       ...       ...       ...  \n",
       "446 -0.079635  0.0  0.536026 -0.434471 -1.756495 -1.620409 -0.652173  \n",
       "447 -0.079635  0.0 -0.328388  0.829700  1.383635  1.785103  1.391973  \n",
       "448 -0.079635  0.0  2.841129 -0.153544 -4.704071 -3.390842 -0.425045  \n",
       "449 -0.079635  0.0 -0.040250  0.829700  0.420859  0.929664 -0.652173  \n",
       "450 -0.079635  0.0 -0.040250  0.267846  0.146839  0.182509 -0.652173  \n",
       "\n",
       "[451 rows x 279 columns]"
      ]
     },
     "execution_count": 30,
     "metadata": {},
     "output_type": "execute_result"
    }
   ],
   "source": [
    "scaled_df"
   ]
  },
  {
   "cell_type": "markdown",
   "metadata": {},
   "source": [
    "# Clustering Algorithm"
   ]
  },
  {
   "cell_type": "code",
   "execution_count": 31,
   "metadata": {},
   "outputs": [
    {
     "data": {
      "image/png": "[encoded data removed]",
      "text/plain": [
       "<Figure size 432x288 with 1 Axes>"
      ]
     },
     "metadata": {
      "needs_background": "light"
     },
     "output_type": "display_data"
    }
   ],
   "source": [
    "from sklearn.mixture import GaussianMixture\n",
    "n_clusters = 13\n",
    "gmm_model = GaussianMixture(n_components=n_clusters)\n",
    "gmm_model.fit(scaled_df)\n",
    "cluster_labels = gmm_model.fit_predict(scaled_df)\n",
    "dfc=scaled_df\n",
    "dfc['cluster']= cluster_labels\n",
    "for k in range(0,n_clusters):\n",
    "    data =dfc[dfc['cluster']==k]\n",
    "    plt.scatter(data[0],data[278])\n",
    "plt.title(\"Clusters Identified by Guassian Mixture Model\")    \n",
    "plt.ylabel(\"Arrythmia Classes\")\n",
    "plt.xlabel(\"Age\")\n",
    "plt.legend(cluster_labels)\n",
    "plt.show()"
   ]
  },
  {
   "cell_type": "markdown",
   "metadata": {},
   "source": [
    "# Data Preparing using K-folds"
   ]
  },
  {
   "cell_type": "markdown",
   "metadata": {},
   "source": [
    "I added this step to deal with expected bias"
   ]
  },
  {
   "cell_type": "code",
   "execution_count": 32,
   "metadata": {
    "scrolled": true
   },
   "outputs": [],
   "source": [
    "k = 5\n",
    "kf = KFold(n_splits=k, random_state=None)\n",
    "X = scaled_df.iloc[:,:-1]\n",
    "y = df.iloc[:,-1]\n",
    "for train_index , test_index in kf.split(X):\n",
    "    X_train , X_test = X.iloc[train_index,:],X.iloc[test_index,:]\n",
    "    y_train , y_test = y[train_index] , y[test_index]\n",
    "    ss=preprocessing.StandardScaler()\n",
    "    X_train = ss.fit_transform(X_train)\n",
    "    X_test = ss.fit_transform(X_test)\n"
   ]
  },
  {
   "cell_type": "markdown",
   "metadata": {},
   "source": [
    "# Solving using SVC"
   ]
  },
  {
   "cell_type": "code",
   "execution_count": 33,
   "metadata": {
    "scrolled": true
   },
   "outputs": [
    {
     "data": {
      "image/png": "[encoded data removed]",
      "text/plain": [
       "<Figure size 432x288 with 1 Axes>"
      ]
     },
     "metadata": {
      "needs_background": "light"
     },
     "output_type": "display_data"
    }
   ],
   "source": [
    "percent= arange(0.1,0.5,0.05)\n",
    "scores=[]\n",
    "for p in percent:\n",
    "    X_train,X_test, y_train, y_test = train_test_split(X, y, test_size=p, random_state=1)\n",
    "    ss=preprocessing.StandardScaler()\n",
    "    X_train = ss.fit_transform(X_train)\n",
    "    X_test = ss.fit_transform(X_test)\n",
    "    SVM = SVC(kernel='rbf' ,random_state=1,C=10,class_weight='balanced' )\n",
    "    SVM.fit(X_train, y_train)\n",
    "    y_pred = SVM.predict(X_test)\n",
    "    scores.append(metrics.accuracy_score(y_test, y_pred))\n",
    "plt.plot(percent, scores)\n",
    "plt.xlabel('Used percentage')\n",
    "plt.ylabel('Testing Accuracy')\n",
    "plt.show()"
   ]
  },
  {
   "cell_type": "markdown",
   "metadata": {},
   "source": [
    "I will split the data to 25% for testing and 75% to train the data for the SVM algorithm"
   ]
  },
  {
   "cell_type": "code",
   "execution_count": 34,
   "metadata": {
    "scrolled": true
   },
   "outputs": [],
   "source": [
    "X_train,X_test, y_train, y_test = train_test_split(X, y, test_size=0.25, random_state=1)\n",
    "ss=preprocessing.StandardScaler()\n",
    "X_train = ss.fit_transform(X_train)\n",
    "X_test = ss.fit_transform(X_test)\n"
   ]
  },
  {
   "cell_type": "code",
   "execution_count": 35,
   "metadata": {
    "scrolled": true
   },
   "outputs": [
    {
     "data": {
      "image/png": "[encoded data removed]",
      "text/plain": [
       "<Figure size 432x288 with 1 Axes>"
      ]
     },
     "metadata": {
      "needs_background": "light"
     },
     "output_type": "display_data"
    }
   ],
   "source": [
    "SVMKernel = ['linear','rbf','sigmoid','poly']\n",
    "scores = []\n",
    "for k in SVMKernel:\n",
    "    SVM = SVC(kernel=k ,random_state=1,C=10,class_weight='balanced'  )\n",
    "    SVM.fit(X_train, y_train)\n",
    "    y_pred = SVM.predict(X_test)\n",
    "    scores.append(metrics.accuracy_score(y_test, y_pred))\n",
    "plt.plot(SVMKernel, scores)\n",
    "plt.xlabel('Used Kernel')\n",
    "plt.ylabel('Testing Accuracy')\n",
    "plt.show()"
   ]
  },
  {
   "cell_type": "markdown",
   "metadata": {},
   "source": [
    "I will choose the linear kernel because it achieved the highest score"
   ]
  },
  {
   "cell_type": "code",
   "execution_count": 36,
   "metadata": {},
   "outputs": [
    {
     "data": {
      "image/png": "[encoded data removed]",
      "text/plain": [
       "<Figure size 432x288 with 1 Axes>"
      ]
     },
     "metadata": {
      "needs_background": "light"
     },
     "output_type": "display_data"
    }
   ],
   "source": [
    "C = arange(1,100,10)\n",
    "scores = []\n",
    "for c in C:\n",
    "    SVM = SVC(kernel='linear',C=c ,random_state=1,class_weight='balanced')\n",
    "    SVM.fit(X_train, y_train)\n",
    "    y_pred = SVM.predict(X_test)\n",
    "    scores.append(metrics.accuracy_score(y_test, y_pred))\n",
    "    \n",
    "plt.plot(C, scores)\n",
    "plt.xlabel('Value of C for SVM')\n",
    "plt.ylabel('Testing Accuracy')\n",
    "plt.show()"
   ]
  },
  {
   "cell_type": "code",
   "execution_count": 37,
   "metadata": {},
   "outputs": [],
   "source": [
    "SVM = SVC(kernel='linear' ,random_state=10,C=10, class_weight='balanced'  )\n",
    "SVM.fit(X_train, y_train)\n",
    "y_pred = SVM.predict(X_test)"
   ]
  },
  {
   "cell_type": "code",
   "execution_count": 38,
   "metadata": {},
   "outputs": [
    {
     "name": "stdout",
     "output_type": "stream",
     "text": [
      "Accuracy on training set: 1.000\n",
      "Accuracy on test set: 0.752\n"
     ]
    }
   ],
   "source": [
    "print(\"Accuracy on training set: {:.3f}\".format(SVM.score(X_train, y_train)))\n",
    "print(\"Accuracy on test set: {:.3f}\".format(SVM.score(X_test, y_test)))"
   ]
  },
  {
   "cell_type": "code",
   "execution_count": 39,
   "metadata": {},
   "outputs": [
    {
     "name": "stderr",
     "output_type": "stream",
     "text": [
      "C:\\Users\\hp\\anaconda\\lib\\site-packages\\sklearn\\model_selection\\_split.py:676: UserWarning: The least populated class in y has only 1 members, which is less than n_splits=5.\n",
      "  warnings.warn(\n"
     ]
    },
    {
     "data": {
      "image/png": "[encoded data removed]",
      "text/plain": [
       "<Figure size 432x288 with 1 Axes>"
      ]
     },
     "metadata": {
      "needs_background": "light"
     },
     "output_type": "display_data"
    }
   ],
   "source": [
    "train_sizes_model, train_scores_model, valid_scores_model, *_ =learning_curve(SVM, X, y,)\n",
    "fig=plt.figure()\n",
    "ax=fig.add_axes([0,0,1,1])\n",
    "ax.scatter(x=train_sizes_model,y= train_scores_model.mean(axis=1), color='b')\n",
    "ax.scatter(x=train_sizes_model,y=valid_scores_model.mean(axis=1), color='r')\n",
    "ax.plot(train_sizes_model,train_scores_model.mean(axis=1), color='b')\n",
    "ax.plot(train_sizes_model,valid_scores_model.mean(axis=1), color='r')\n",
    "ax.set_xlabel('Data Range')\n",
    "ax.set_ylabel('Accuracy')\n",
    "ax.set_title('Learning Curve')\n",
    "plt.show()"
   ]
  },
  {
   "cell_type": "code",
   "execution_count": 40,
   "metadata": {
    "scrolled": true
   },
   "outputs": [
    {
     "name": "stdout",
     "output_type": "stream",
     "text": [
      "              precision    recall  f1-score   support\n",
      "\n",
      "           1       0.81      0.98      0.89        52\n",
      "           2       0.78      0.44      0.56        16\n",
      "           3       0.80      0.80      0.80         5\n",
      "           4       0.75      0.60      0.67         5\n",
      "           5       0.25      0.50      0.33         2\n",
      "           6       0.50      0.60      0.55         5\n",
      "           7       0.00      0.00      0.00         1\n",
      "           9       1.00      0.50      0.67         2\n",
      "          10       0.82      0.93      0.87        15\n",
      "          14       0.00      0.00      0.00         3\n",
      "          15       0.25      1.00      0.40         1\n",
      "          16       0.00      0.00      0.00         6\n",
      "\n",
      "    accuracy                           0.75       113\n",
      "   macro avg       0.50      0.53      0.48       113\n",
      "weighted avg       0.71      0.75      0.71       113\n",
      "\n"
     ]
    }
   ],
   "source": [
    "y_pred = SVM.predict(X_test)\n",
    "print(classification_report(y_test, y_pred,zero_division=0))"
   ]
  },
  {
   "cell_type": "code",
   "execution_count": 41,
   "metadata": {},
   "outputs": [
    {
     "name": "stdout",
     "output_type": "stream",
     "text": [
      "MSE: 14.961\n",
      "Bias: 10.514\n",
      "Variance: 4.447\n"
     ]
    }
   ],
   "source": [
    "mse, bias, var = bias_variance_decomp(SVM, X_train, y_train.values, X_test, y_test.values, loss='mse', num_rounds=200, random_seed=1)\n",
    "print('MSE: %.3f' % mse)\n",
    "print('Bias: %.3f' % bias)\n",
    "print('Variance: %.3f' % var)"
   ]
  },
  {
   "cell_type": "markdown",
   "metadata": {},
   "source": [
    "# Using pipeline on SVC\n"
   ]
  },
  {
   "cell_type": "code",
   "execution_count": 42,
   "metadata": {},
   "outputs": [
    {
     "data": {
      "text/plain": [
       "Pipeline(steps=[('scaler', MinMaxScaler()),\n",
       "                ('svc',\n",
       "                 SVC(C=10, class_weight='balanced', kernel='linear',\n",
       "                     random_state=1))])"
      ]
     },
     "execution_count": 42,
     "metadata": {},
     "output_type": "execute_result"
    }
   ],
   "source": [
    "PP = Pipeline([('scaler', MinMaxScaler()),\n",
    "               ('svc', SVC(kernel='linear' ,random_state=1,C=10, class_weight='balanced'  ))])\n",
    "PP.fit(X_train,y_train)"
   ]
  },
  {
   "cell_type": "code",
   "execution_count": 43,
   "metadata": {},
   "outputs": [
    {
     "name": "stdout",
     "output_type": "stream",
     "text": [
      "Accuracy on training set: 0.997\n",
      "Accuracy on test set: 0.805\n"
     ]
    }
   ],
   "source": [
    "print(\"Accuracy on training set: {:.3f}\".format(PP.score(X_train, y_train)))\n",
    "print(\"Accuracy on test set: {:.3f}\".format(PP.score(X_test, y_test)))"
   ]
  },
  {
   "cell_type": "code",
   "execution_count": 44,
   "metadata": {},
   "outputs": [
    {
     "name": "stderr",
     "output_type": "stream",
     "text": [
      "C:\\Users\\hp\\anaconda\\lib\\site-packages\\sklearn\\model_selection\\_split.py:676: UserWarning: The least populated class in y has only 1 members, which is less than n_splits=5.\n",
      "  warnings.warn(\n"
     ]
    },
    {
     "data": {
      "image/png": "[encoded data removed]",
      "text/plain": [
       "<Figure size 432x288 with 1 Axes>"
      ]
     },
     "metadata": {
      "needs_background": "light"
     },
     "output_type": "display_data"
    }
   ],
   "source": [
    "train_sizes_model, train_scores_model, valid_scores_model, *_ =learning_curve(PP, X, y,)\n",
    "fig=plt.figure()\n",
    "ax=fig.add_axes([0,0,1,1])\n",
    "ax.scatter(x=train_sizes_model,y= train_scores_model.mean(axis=1), color='b')\n",
    "ax.scatter(x=train_sizes_model,y=valid_scores_model.mean(axis=1), color='r')\n",
    "ax.plot(train_sizes_model,train_scores_model.mean(axis=1), color='b')\n",
    "ax.plot(train_sizes_model,valid_scores_model.mean(axis=1), color='r')\n",
    "ax.set_xlabel('Data Range')\n",
    "ax.set_ylabel('Accuracy')\n",
    "ax.set_title('Learning Curve')\n",
    "plt.show()"
   ]
  },
  {
   "cell_type": "code",
   "execution_count": 45,
   "metadata": {},
   "outputs": [
    {
     "name": "stdout",
     "output_type": "stream",
     "text": [
      "              precision    recall  f1-score   support\n",
      "\n",
      "           1       0.80      1.00      0.89        52\n",
      "           2       1.00      0.50      0.67        16\n",
      "           3       0.80      0.80      0.80         5\n",
      "           4       0.67      0.40      0.50         5\n",
      "           5       1.00      0.50      0.67         2\n",
      "           6       1.00      0.80      0.89         5\n",
      "           7       0.00      0.00      0.00         1\n",
      "           9       1.00      0.50      0.67         2\n",
      "          10       0.79      1.00      0.88        15\n",
      "          14       0.00      0.00      0.00         3\n",
      "          15       0.50      1.00      0.67         1\n",
      "          16       0.60      0.50      0.55         6\n",
      "\n",
      "    accuracy                           0.81       113\n",
      "   macro avg       0.68      0.58      0.60       113\n",
      "weighted avg       0.80      0.81      0.78       113\n",
      "\n"
     ]
    }
   ],
   "source": [
    "y_pred = PP.predict(X_test)\n",
    "print(classification_report(y_test, y_pred, zero_division=0))"
   ]
  },
  {
   "cell_type": "code",
   "execution_count": 46,
   "metadata": {},
   "outputs": [
    {
     "name": "stdout",
     "output_type": "stream",
     "text": [
      "MSE: 5.054\n",
      "Bias: 2.699\n",
      "Variance: 2.355\n"
     ]
    }
   ],
   "source": [
    "mse, bias, var = bias_variance_decomp(PP, X_train, y_train.values, X_test, y_test.values, loss='mse', num_rounds=200, random_seed=1)\n",
    "print('MSE: %.3f' % mse)\n",
    "print('Bias: %.3f' % bias)\n",
    "print('Variance: %.3f' % var)"
   ]
  },
  {
   "cell_type": "markdown",
   "metadata": {},
   "source": [
    "# Using Logistic regression\n"
   ]
  },
  {
   "cell_type": "code",
   "execution_count": 47,
   "metadata": {
    "scrolled": true
   },
   "outputs": [
    {
     "data": {
      "image/png": "[encoded data removed]",
      "text/plain": [
       "<Figure size 432x288 with 1 Axes>"
      ]
     },
     "metadata": {
      "needs_background": "light"
     },
     "output_type": "display_data"
    }
   ],
   "source": [
    "percent= arange(0.1,0.5,0.05)\n",
    "scores=[]\n",
    "for p in percent:\n",
    "    X_train,X_test, y_train, y_test = train_test_split(X, y, test_size=p, random_state=1)\n",
    "    ss=preprocessing.StandardScaler()\n",
    "    X_train = ss.fit_transform(X_train)\n",
    "    X_test = ss.fit_transform(X_test)\n",
    "    lr = LogisticRegression(random_state=1,penalty='l1',solver='liblinear', max_iter=10000,class_weight='balanced')\n",
    "    lr.fit(X_train, y_train)\n",
    "    scores.append(lr.score(X_test, y_test))\n",
    "plt.plot(percent, scores)\n",
    "plt.xlabel('Used percentage')\n",
    "plt.ylabel('Testing Accuracy')\n",
    "plt.show()"
   ]
  },
  {
   "cell_type": "markdown",
   "metadata": {},
   "source": [
    "I will split the data to 30% for testing and 70% to train the data for the Logistic Regression algorithm"
   ]
  },
  {
   "cell_type": "code",
   "execution_count": 48,
   "metadata": {
    "scrolled": true
   },
   "outputs": [],
   "source": [
    "X_train,X_test, y_train, y_test = train_test_split(X, y, test_size=0.3, random_state=1)\n",
    "ss=preprocessing.StandardScaler()\n",
    "X_train = ss.fit_transform(X_train)\n",
    "X_test = ss.fit_transform(X_test)\n"
   ]
  },
  {
   "cell_type": "code",
   "execution_count": 49,
   "metadata": {},
   "outputs": [
    {
     "data": {
      "image/png": "[encoded data removed]",
      "text/plain": [
       "<Figure size 432x288 with 1 Axes>"
      ]
     },
     "metadata": {
      "needs_background": "light"
     },
     "output_type": "display_data"
    }
   ],
   "source": [
    "lr_solver = ['lbfgs','newton-cg','liblinear','sag','saga']\n",
    "scores = []\n",
    "for l in lr_solver:\n",
    "    lr = LogisticRegression(random_state=1,solver=l, max_iter=10000,class_weight='balanced')\n",
    "    lr.fit(X_train, y_train)\n",
    "    scores.append(lr.score(X_test, y_test))\n",
    "plt.plot(lr_solver, scores)\n",
    "plt.xlabel('Used Solver')\n",
    "plt.ylabel('Testing Accuracy')\n",
    "plt.show()"
   ]
  },
  {
   "cell_type": "markdown",
   "metadata": {},
   "source": [
    "I will choose the liblinear solver"
   ]
  },
  {
   "cell_type": "code",
   "execution_count": 50,
   "metadata": {},
   "outputs": [
    {
     "data": {
      "text/plain": [
       "LogisticRegression(class_weight='balanced', max_iter=10000, random_state=1,\n",
       "                   solver='newton-cg')"
      ]
     },
     "execution_count": 50,
     "metadata": {},
     "output_type": "execute_result"
    }
   ],
   "source": [
    "lr = LogisticRegression(random_state=1,solver='newton-cg', max_iter=10000, class_weight='balanced')\n",
    "lr.fit(X_train, y_train)"
   ]
  },
  {
   "cell_type": "code",
   "execution_count": 51,
   "metadata": {},
   "outputs": [
    {
     "name": "stdout",
     "output_type": "stream",
     "text": [
      "Accuracy on training set: 0.997\n",
      "Accuracy on test set: 0.765\n"
     ]
    }
   ],
   "source": [
    "print(\"Accuracy on training set: {:.3f}\".format(lr.score(X_train, y_train)))\n",
    "print(\"Accuracy on test set: {:.3f}\".format(lr.score(X_test, y_test)))\n",
    "lr_test=lr.score(X_test, y_test)"
   ]
  },
  {
   "cell_type": "code",
   "execution_count": 52,
   "metadata": {},
   "outputs": [
    {
     "name": "stderr",
     "output_type": "stream",
     "text": [
      "C:\\Users\\hp\\anaconda\\lib\\site-packages\\sklearn\\model_selection\\_split.py:676: UserWarning: The least populated class in y has only 1 members, which is less than n_splits=5.\n",
      "  warnings.warn(\n"
     ]
    },
    {
     "data": {
      "image/png": "[encoded data removed]",
      "text/plain": [
       "<Figure size 432x288 with 1 Axes>"
      ]
     },
     "metadata": {
      "needs_background": "light"
     },
     "output_type": "display_data"
    }
   ],
   "source": [
    "train_sizes_model, train_scores_model, valid_scores_model, *_ =learning_curve(lr, X, y,n_jobs=1)\n",
    "fig=plt.figure()\n",
    "ax=fig.add_axes([0,0,1,1])\n",
    "ax.scatter(x=train_sizes_model,y= train_scores_model.mean(axis=1), color='b')\n",
    "ax.scatter(x=train_sizes_model,y=valid_scores_model.mean(axis=1), color='r')\n",
    "ax.plot(train_sizes_model,train_scores_model.mean(axis=1), color='b')\n",
    "ax.plot(train_sizes_model,valid_scores_model.mean(axis=1), color='r')\n",
    "ax.set_xlabel('Data Range')\n",
    "ax.set_ylabel('Accuracy')\n",
    "ax.set_title('Learning Curve')\n",
    "plt.show()"
   ]
  },
  {
   "cell_type": "code",
   "execution_count": 53,
   "metadata": {},
   "outputs": [
    {
     "name": "stdout",
     "output_type": "stream",
     "text": [
      "              precision    recall  f1-score   support\n",
      "\n",
      "           1       0.84      0.92      0.88        66\n",
      "           2       0.67      0.47      0.55        17\n",
      "           3       0.71      1.00      0.83         5\n",
      "           4       0.67      0.80      0.73         5\n",
      "           5       0.33      0.33      0.33         3\n",
      "           6       0.33      0.40      0.36         5\n",
      "           7       0.00      0.00      0.00         1\n",
      "           9       1.00      0.50      0.67         2\n",
      "          10       0.89      0.89      0.89        19\n",
      "          14       0.00      0.00      0.00         3\n",
      "          15       0.50      1.00      0.67         2\n",
      "          16       0.60      0.38      0.46         8\n",
      "\n",
      "    accuracy                           0.76       136\n",
      "   macro avg       0.55      0.56      0.53       136\n",
      "weighted avg       0.74      0.76      0.74       136\n",
      "\n"
     ]
    }
   ],
   "source": [
    "y_pred = lr.predict(X_test)\n",
    "print(classification_report(y_test, y_pred, zero_division=0))"
   ]
  },
  {
   "cell_type": "code",
   "execution_count": 54,
   "metadata": {},
   "outputs": [
    {
     "name": "stdout",
     "output_type": "stream",
     "text": [
      "MSE: 13.485\n",
      "Bias: 9.119\n",
      "Variance: 4.366\n"
     ]
    }
   ],
   "source": [
    "mse, bias, var = bias_variance_decomp(lr, X_train, y_train.values, X_test, y_test.values, loss='mse', num_rounds=200, random_seed=1)\n",
    "print('MSE: %.3f' % mse)\n",
    "print('Bias: %.3f' % bias)\n",
    "print('Variance: %.3f' % var)"
   ]
  },
  {
   "cell_type": "markdown",
   "metadata": {},
   "source": [
    "# Using Random Forest Classifier\n"
   ]
  },
  {
   "cell_type": "code",
   "execution_count": 55,
   "metadata": {},
   "outputs": [
    {
     "data": {
      "image/png": "[encoded data removed]",
      "text/plain": [
       "<Figure size 432x288 with 1 Axes>"
      ]
     },
     "metadata": {
      "needs_background": "light"
     },
     "output_type": "display_data"
    }
   ],
   "source": [
    "percent= arange(0.1,0.5,0.05)\n",
    "scores=[]\n",
    "for p in percent:\n",
    "    X_train,X_test, y_train, y_test = train_test_split(X, y, test_size=p, random_state=1)\n",
    "    ss=preprocessing.StandardScaler()\n",
    "    X_train = ss.fit_transform(X_train)\n",
    "    X_test = ss.fit_transform(X_test)\n",
    "    \n",
    "    rf = RandomForestClassifier(random_state=1, max_depth=6,class_weight='balanced')\n",
    "    rf.fit(X_train, y_train)\n",
    "    scores.append(rf.score(X_test, y_test))\n",
    "    \n",
    "plt.plot(percent, scores)\n",
    "plt.xlabel('Used percentage')\n",
    "plt.ylabel('Testing Accuracy')\n",
    "plt.show()"
   ]
  },
  {
   "cell_type": "code",
   "execution_count": 56,
   "metadata": {},
   "outputs": [
    {
     "data": {
      "text/plain": [
       "((451, 279), (451,))"
      ]
     },
     "execution_count": 56,
     "metadata": {},
     "output_type": "execute_result"
    }
   ],
   "source": [
    "X_train,X_test, y_train, y_test = train_test_split(X, y, test_size=0.4, random_state=1)\n",
    "ss=preprocessing.StandardScaler()\n",
    "X_train = ss.fit_transform(X_train)\n",
    "X_test = ss.fit_transform(X_test)\n",
    "X.shape,y.shape"
   ]
  },
  {
   "cell_type": "markdown",
   "metadata": {},
   "source": [
    "I will split the data 40% for testing and 60% for training the data using Random Forest Classifier Algorithm"
   ]
  },
  {
   "cell_type": "code",
   "execution_count": 57,
   "metadata": {},
   "outputs": [
    {
     "data": {
      "image/png": "[encoded data removed]",
      "text/plain": [
       "<Figure size 432x288 with 1 Axes>"
      ]
     },
     "metadata": {
      "needs_background": "light"
     },
     "output_type": "display_data"
    }
   ],
   "source": [
    "depth= arange(1,10,1)\n",
    "scores=[]\n",
    "for d in depth:\n",
    "   \n",
    "    rf = RandomForestClassifier(random_state=1, max_depth=d,class_weight='balanced')\n",
    "    rf.fit(X_train, y_train)\n",
    "    scores.append(rf.score(X_test, y_test))\n",
    "    \n",
    "plt.plot(depth, scores)\n",
    "plt.xlabel('Used depth')\n",
    "plt.ylabel('Testing Accuracy')\n",
    "plt.show()"
   ]
  },
  {
   "cell_type": "markdown",
   "metadata": {},
   "source": [
    "I will choose the depth to be equal to 6"
   ]
  },
  {
   "cell_type": "code",
   "execution_count": 58,
   "metadata": {},
   "outputs": [
    {
     "data": {
      "text/plain": [
       "RandomForestClassifier(class_weight='balanced', max_depth=6, random_state=1)"
      ]
     },
     "execution_count": 58,
     "metadata": {},
     "output_type": "execute_result"
    }
   ],
   "source": [
    "rf = RandomForestClassifier(random_state=1, max_depth=6,class_weight='balanced')\n",
    "rf.fit(X_train, y_train)"
   ]
  },
  {
   "cell_type": "code",
   "execution_count": 59,
   "metadata": {},
   "outputs": [
    {
     "name": "stdout",
     "output_type": "stream",
     "text": [
      "Accuracy on training set: 0.993\n",
      "Accuracy on test set: 0.829\n"
     ]
    }
   ],
   "source": [
    "print(\"Accuracy on training set: {:.3f}\".format(rf.score(X_train, y_train)))\n",
    "print(\"Accuracy on test set: {:.3f}\".format(rf.score(X_test, y_test)))\n"
   ]
  },
  {
   "cell_type": "code",
   "execution_count": 60,
   "metadata": {},
   "outputs": [
    {
     "name": "stderr",
     "output_type": "stream",
     "text": [
      "C:\\Users\\hp\\anaconda\\lib\\site-packages\\sklearn\\model_selection\\_split.py:676: UserWarning: The least populated class in y has only 1 members, which is less than n_splits=5.\n",
      "  warnings.warn(\n"
     ]
    },
    {
     "data": {
      "image/png": "[encoded data removed]",
      "text/plain": [
       "<Figure size 432x288 with 1 Axes>"
      ]
     },
     "metadata": {
      "needs_background": "light"
     },
     "output_type": "display_data"
    }
   ],
   "source": [
    "train_sizes_model, train_scores_model, valid_scores_model, *_ =learning_curve(rf, X, y,n_jobs=1)\n",
    "fig=plt.figure()\n",
    "ax=fig.add_axes([0,0,1,1])\n",
    "ax.scatter(x=train_sizes_model,y= train_scores_model.mean(axis=1), color='b')\n",
    "ax.scatter(x=train_sizes_model,y=valid_scores_model.mean(axis=1), color='r')\n",
    "ax.plot(train_sizes_model,train_scores_model.mean(axis=1), color='b')\n",
    "ax.plot(train_sizes_model,valid_scores_model.mean(axis=1), color='r')\n",
    "ax.set_xlabel('Data Range')\n",
    "ax.set_ylabel('Accuracy')\n",
    "ax.set_title('Learning Curve')\n",
    "plt.show()"
   ]
  },
  {
   "cell_type": "code",
   "execution_count": 61,
   "metadata": {},
   "outputs": [
    {
     "name": "stdout",
     "output_type": "stream",
     "text": [
      "              precision    recall  f1-score   support\n",
      "\n",
      "           1       0.87      0.98      0.92        88\n",
      "           2       0.70      0.76      0.73        21\n",
      "           3       0.75      0.86      0.80         7\n",
      "           4       0.88      1.00      0.93         7\n",
      "           5       1.00      0.43      0.60         7\n",
      "           6       0.88      0.78      0.82         9\n",
      "           7       0.00      0.00      0.00         1\n",
      "           8       0.00      0.00      0.00         0\n",
      "           9       1.00      1.00      1.00         3\n",
      "          10       0.77      0.77      0.77        22\n",
      "          14       0.00      0.00      0.00         3\n",
      "          15       0.67      1.00      0.80         2\n",
      "          16       1.00      0.27      0.43        11\n",
      "\n",
      "    accuracy                           0.83       181\n",
      "   macro avg       0.65      0.60      0.60       181\n",
      "weighted avg       0.83      0.83      0.81       181\n",
      "\n"
     ]
    }
   ],
   "source": [
    "y_pred = rf.predict(X_test)\n",
    "print(classification_report(y_test, y_pred, zero_division=0))"
   ]
  },
  {
   "cell_type": "code",
   "execution_count": 62,
   "metadata": {},
   "outputs": [
    {
     "name": "stdout",
     "output_type": "stream",
     "text": [
      "MSE: 15.672\n",
      "Bias: 11.334\n",
      "Variance: 4.337\n"
     ]
    }
   ],
   "source": [
    "mse, bias, var = bias_variance_decomp(rf, X_train, y_train.values, X_test, y_test.values, loss='mse', num_rounds=200, random_seed=1)\n",
    "print('MSE: %.3f' % mse)\n",
    "print('Bias: %.3f' % bias)\n",
    "print('Variance: %.3f' % var)"
   ]
  },
  {
   "cell_type": "markdown",
   "metadata": {},
   "source": [
    "# Comparing the accuracy of all the 4 models"
   ]
  },
  {
   "cell_type": "code",
   "execution_count": 63,
   "metadata": {},
   "outputs": [
    {
     "name": "stdout",
     "output_type": "stream",
     "text": [
      "The accuracy score achieved using Random Forest is: 0.8814814814814815 %\n",
      "The accuracy score achieved using Logestic regression is: 0.9185185185185185 %\n",
      "The accuracy score achieved using SVM is: 0.9185185185185185 %\n",
      "The accuracy score achieved using SVM-PP is: 0.9296296296296296 %\n"
     ]
    }
   ],
   "source": [
    "scores = [rf.score(X_train, y_train),lr.score(X_train, y_train),SVM.score(X_train, y_train),PP.score(X_train, y_train)]\n",
    "algorithms = [\"Random Forest\",\"Logestic regression\",\"SVM\",\"SVM-PP\"]    \n",
    "\n",
    "for i in range(len(algorithms)):\n",
    "    print(\"The accuracy score achieved using \"+algorithms[i]+\" is: \"+str(scores[i])+\" %\")"
   ]
  },
  {
   "cell_type": "code",
   "execution_count": 64,
   "metadata": {},
   "outputs": [
    {
     "name": "stderr",
     "output_type": "stream",
     "text": [
      "C:\\Users\\hp\\anaconda\\lib\\site-packages\\seaborn\\_decorators.py:36: FutureWarning: Pass the following variables as keyword args: x, y. From version 0.12, the only valid positional argument will be `data`, and passing other arguments without an explicit keyword will result in an error or misinterpretation.\n",
      "  warnings.warn(\n"
     ]
    },
    {
     "data": {
      "text/plain": [
       "<AxesSubplot:title={'center':'Training score'}, xlabel='Algorithms', ylabel='Accuracy of train score'>"
      ]
     },
     "execution_count": 64,
     "metadata": {},
     "output_type": "execute_result"
    },
    {
     "data": {
      "image/png": "[encoded data removed]",
      "text/plain": [
       "<Figure size 1080x576 with 1 Axes>"
      ]
     },
     "metadata": {},
     "output_type": "display_data"
    }
   ],
   "source": [
    "#display bar plot for each accuracy\n",
    "sns.set(rc={'figure.figsize':(15,8)})\n",
    "plt.xlabel(\"Algorithms\")\n",
    "plt.ylabel(\"Accuracy of train score\")\n",
    "plt.title('Training score')\n",
    "sns.barplot(algorithms,scores)"
   ]
  },
  {
   "cell_type": "code",
   "execution_count": 65,
   "metadata": {},
   "outputs": [
    {
     "name": "stdout",
     "output_type": "stream",
     "text": [
      "The accuracy score achieved using Random Forest is: 0.7237569060773481 %\n",
      "The accuracy score achieved using Logestic regression is: 0.7900552486187845 %\n",
      "The accuracy score achieved using SVM is: 0.7569060773480663 %\n",
      "The accuracy score achieved using SVM-PP is: 0.8176795580110497 %\n"
     ]
    }
   ],
   "source": [
    "scores = [rf.score(X_test, y_test),lr.score(X_test, y_test),SVM.score(X_test, y_test),PP.score(X_test, y_test)]\n",
    "algorithms = [\"Random Forest\",\"Logestic regression\",\"SVM\",\"SVM-PP\"]    \n",
    "\n",
    "for i in range(len(algorithms)):\n",
    "    print(\"The accuracy score achieved using \"+algorithms[i]+\" is: \"+str(scores[i])+\" %\")"
   ]
  },
  {
   "cell_type": "code",
   "execution_count": 66,
   "metadata": {},
   "outputs": [
    {
     "name": "stderr",
     "output_type": "stream",
     "text": [
      "C:\\Users\\hp\\anaconda\\lib\\site-packages\\seaborn\\_decorators.py:36: FutureWarning: Pass the following variables as keyword args: x, y. From version 0.12, the only valid positional argument will be `data`, and passing other arguments without an explicit keyword will result in an error or misinterpretation.\n",
      "  warnings.warn(\n"
     ]
    },
    {
     "data": {
      "text/plain": [
       "<AxesSubplot:title={'center':'Testing score'}, xlabel='Algorithms', ylabel='Accuracy of train score'>"
      ]
     },
     "execution_count": 66,
     "metadata": {},
     "output_type": "execute_result"
    },
    {
     "data": {
      "image/png": "[encoded data removed]",
      "text/plain": [
       "<Figure size 1080x576 with 1 Axes>"
      ]
     },
     "metadata": {},
     "output_type": "display_data"
    }
   ],
   "source": [
    "#display bar plot for each accuracy\n",
    "sns.set(rc={'figure.figsize':(15,8)})\n",
    "plt.xlabel(\"Algorithms\")\n",
    "plt.ylabel(\"Accuracy of train score\")\n",
    "plt.title('Testing score')\n",
    "sns.barplot(algorithms,scores)"
   ]
  },
  {
   "cell_type": "code",
   "execution_count": null,
   "metadata": {},
   "outputs": [],
   "source": []
  }
 ],
 "metadata": {
  "kernelspec": {
   "display_name": "Python 3",
   "language": "python",
   "name": "python3"
  },
  "language_info": {
   "codemirror_mode": {
    "name": "ipython",
    "version": 3
   },
   "file_extension": ".py",
   "mimetype": "text/x-python",
   "name": "python",
   "nbconvert_exporter": "python",
   "pygments_lexer": "ipython3",
   "version": "3.8.5"
  }
 },
 "nbformat": 4,
 "nbformat_minor": 4
}
